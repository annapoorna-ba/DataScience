{
 "cells": [
  {
   "cell_type": "code",
   "execution_count": 1,
   "metadata": {
    "scrolled": true
   },
   "outputs": [
    {
     "name": "stdout",
     "output_type": "stream",
     "text": [
      "int num1 = -123\n",
      "int num2 = -123\n"
     ]
    }
   ],
   "source": [
    "num1 = 0\n",
    "num2 = 0\n",
    "\n",
    "num1 = -123\n",
    "num2 = num1\n",
    "\n",
    "print (\"int num1 =\", num1)\n",
    "print (\"int num2 =\", num2)"
   ]
  },
  {
   "cell_type": "code",
   "execution_count": 2,
   "metadata": {
    "scrolled": true
   },
   "outputs": [
    {
     "name": "stdout",
     "output_type": "stream",
     "text": [
      "float num1 = 3.141592653589793\n",
      "float num2 = 3.1415926535897933e+38\n"
     ]
    }
   ],
   "source": [
    "num1 = 3.14159265358979323846264338327950288419\n",
    "num2 = 3.14159265358979323846264338327950288419E+38\t\n",
    "\n",
    "print (\"float num1 =\", num1)\n",
    "print (\"float num2 =\", num2)"
   ]
  },
  {
   "cell_type": "code",
   "execution_count": 3,
   "metadata": {
    "scrolled": true
   },
   "outputs": [
    {
     "name": "stdout",
     "output_type": "stream",
     "text": [
      "Size of float = 24\n",
      "Maximum value of float = 1.7976931348623157e+308\n",
      "Minimum value of float = 2.2250738585072014e-308\n"
     ]
    }
   ],
   "source": [
    "import sys\n",
    "\n",
    "print (\"Size of float =\", sys.getsizeof(float()))\n",
    "\n",
    "print (\"Maximum value of float =\", sys.float_info.max)\n",
    "print (\"Minimum value of float =\", sys.float_info.min)"
   ]
  },
  {
   "cell_type": "code",
   "execution_count": 4,
   "metadata": {
    "scrolled": true
   },
   "outputs": [
    {
     "name": "stdout",
     "output_type": "stream",
     "text": [
      "string = We like Python Training\n",
      "length of string = 23\n",
      "first letter of string = W\n",
      "last letter of string = g\n"
     ]
    }
   ],
   "source": [
    "word = 'We like Python Training'\n",
    "wordlen = len(word)\n",
    "\n",
    "print (\"string =\", word)\n",
    "print (\"length of string =\", wordlen)\n",
    "\n",
    "print (\"first letter of string =\", word[0])\n",
    "print (\"last letter of string =\", word[wordlen-1])\n"
   ]
  },
  {
   "cell_type": "code",
   "execution_count": 5,
   "metadata": {
    "scrolled": true
   },
   "outputs": [
    {
     "name": "stdout",
     "output_type": "stream",
     "text": [
      "8 + 2 = 10\n",
      "8 - 2 = 6\n",
      "8 * 2 = 16\n",
      "8 / 2 = 4.0\n",
      "9 / 2 = 4.5\n",
      "9 // 2 = 4\n",
      "8.0 ** 2 = 64.0\n",
      "float(8) + 2 = 10.0\n"
     ]
    }
   ],
   "source": [
    "result = 8 + 2\n",
    "print (\"8 + 2 =\", result)\n",
    "result = 8 - 2\n",
    "print (\"8 - 2 =\", result)\n",
    "result = 8 * 2\n",
    "print (\"8 * 2 =\", result)\n",
    "result = 8 / 2\n",
    "print (\"8 / 2 =\", result)\n",
    "result = 9 / 2\n",
    "print (\"9 / 2 =\", result)\n",
    "result = 9 // 2\n",
    "print (\"9 // 2 =\", result)\n",
    "result = 8.0 ** 2 # use a float value\n",
    "print (\"8.0 ** 2 =\", result)\n",
    "result = float(8) + 2 # convert to floating-point\n",
    "print (\"float(8) + 2 =\", result)"
   ]
  },
  {
   "cell_type": "code",
   "execution_count": 6,
   "metadata": {
    "scrolled": true
   },
   "outputs": [
    {
     "name": "stdout",
     "output_type": "stream",
     "text": [
      "8 == 8 returns True\n",
      "8 == 9 returns False\n",
      "8 != 8 returns False\n",
      "8 != 9 returns True\n",
      "8 > 8 returns False\n",
      "9 > 8 returns True\n",
      "8 >= 8 returns True\n",
      "9 >= 8 returns True\n",
      "8 < 8 returns False\n",
      "8 < 9 returns True\n",
      "8 <= 8 returns True\n",
      "8 <= 9 returns True\n"
     ]
    }
   ],
   "source": [
    "print (\"8 == 8 returns\", 8 == 8)\n",
    "print (\"8 == 9 returns\", 8 == 9)\n",
    "print (\"8 != 8 returns\", 8 != 8)\n",
    "print (\"8 != 9 returns\", 8 != 9)\n",
    "print (\"8 > 8 returns\", 8 > 8)\n",
    "print (\"9 > 8 returns\", 9 > 8)\n",
    "print (\"8 >= 8 returns\", 8 >= 8)\n",
    "print (\"9 >= 8 returns\", 9 >= 8)\n",
    "print (\"8 < 8 returns\", 8 < 8)\n",
    "print (\"8 < 9 returns\", 8 < 9)\n",
    "print (\"8 <= 8 returns\", 8 <= 8)\n",
    "print (\"8 <= 9 returns\", 8 <= 9)"
   ]
  },
  {
   "cell_type": "code",
   "execution_count": 7,
   "metadata": {
    "scrolled": true
   },
   "outputs": [
    {
     "name": "stdout",
     "output_type": "stream",
     "text": [
      "True and True is True\n",
      "True and False is False\n",
      "False and True is False\n",
      "False and False is False\n",
      "\n",
      "True or True is True\n",
      "True or False is True\n",
      "False or True is True\n",
      "False or False is False\n",
      "\n",
      "not True is False\n",
      "not False is True\n"
     ]
    }
   ],
   "source": [
    "print (\"True and True is\", True and True)\n",
    "print (\"True and False is\", True and False)\n",
    "print (\"False and True is\", False and True)\n",
    "print (\"False and False is\", False and False)\n",
    "print (\"\")\t\n",
    "print (\"True or True is\", True or True)\n",
    "print (\"True or False is\", True or False)\n",
    "print (\"False or True is\", False or True)\n",
    "print (\"False or False is\", False or False)\n",
    "print (\"\")\t\n",
    "print (\"not True is\", not True)\n",
    "print (\"not False is\", not False)"
   ]
  },
  {
   "cell_type": "code",
   "execution_count": 8,
   "metadata": {
    "scrolled": true
   },
   "outputs": [
    {
     "name": "stdout",
     "output_type": "stream",
     "text": [
      "num1 is always reset to 8\n",
      "\n",
      "num1 += 1 will set num1 to 9\n",
      "num1 -= 1 will set num1 to 7\n",
      "num1 *= 2 will set num1 to 16\n",
      "num1 /= 2 will set num1 to 4.0\n",
      "num1 %%= 3 will set num1 to 2\n"
     ]
    }
   ],
   "source": [
    "print (\"num1 is always reset to 8\\n\")\n",
    "\t\n",
    "num1 = 8\n",
    "num1 += 1\n",
    "print (\"num1 += 1 will set num1 to\", num1)\n",
    "num1 = 8\n",
    "num1 -= 1\n",
    "print (\"num1 -= 1 will set num1 to\", num1)\n",
    "num1 = 8\n",
    "num1 *= 2\n",
    "print (\"num1 *= 2 will set num1 to\", num1)\n",
    "num1 = 8\n",
    "num1 /= 2\n",
    "print (\"num1 /= 2 will set num1 to\", num1)\n",
    "num1 = 8\n",
    "num1 %= 3\n",
    "print (\"num1 %%= 3 will set num1 to\", num1)"
   ]
  },
  {
   "cell_type": "code",
   "execution_count": 9,
   "metadata": {
    "scrolled": true
   },
   "outputs": [
    {
     "name": "stdout",
     "output_type": "stream",
     "text": [
      "Demo precedence...\n",
      "8 + 9 * 2 = 26\n",
      "8 + (9 * 2) = 26\n",
      "(8 + 9) * 2 = 34\n",
      "\n",
      "Demo left associativity...\n",
      "8 / 4 / 2 = 1.0\n",
      "(8 / 4) / 2 = 1.0\n",
      "8 / (4 / 2) = 4.0\n",
      "\n",
      "Demo right associativity...\n",
      "2 ** 2 ** 3 = 256\n",
      "(2 ** 2) ** 3 = 64\n",
      "2 ** (2 ** 3) = 256\n"
     ]
    }
   ],
   "source": [
    "print (\"Demo precedence...\")\n",
    "print (\"8 + 9 * 2 =\", 8 + 9 * 2)\n",
    "print (\"8 + (9 * 2) =\", 8 + (9 * 2))\n",
    "print (\"(8 + 9) * 2 =\", (8 + 9) * 2)\n",
    "\t\n",
    "print (\"\\nDemo left associativity...\")\n",
    "print (\"8 / 4 / 2 =\", 8 / 4 / 2)\n",
    "print (\"(8 / 4) / 2 =\", (8 / 4) / 2)\n",
    "print (\"8 / (4 / 2) =\", 8 / (4 / 2))\n",
    "\t\n",
    "print (\"\\nDemo right associativity...\")\n",
    "print (\"2 ** 2 ** 3 =\", 2**2**3)\n",
    "print (\"(2 ** 2) ** 3 =\", (2**2)**3)\n",
    "print (\"2 ** (2 ** 3) =\", 2**(2**3))"
   ]
  },
  {
   "cell_type": "code",
   "execution_count": 10,
   "metadata": {
    "scrolled": true
   },
   "outputs": [
    {
     "name": "stdout",
     "output_type": "stream",
     "text": [
      "Counting 1 ...\n",
      "Counting 1 too...\n",
      "Counting 1 and 2 ...\n",
      "Counting 1 and 2 again...\n",
      "Counting 1 , 2 and 3\n"
     ]
    }
   ],
   "source": [
    "num1 = 1\n",
    "num2 = 2\n",
    "num3 = 3\n",
    "\t\n",
    "print (\"Counting\", num1, \"...\")\n",
    "print (\"Counting\", 1, \"too...\")\n",
    "print (\"Counting\", num1, \"and\", num2, \"...\")\n",
    "print (\"Counting\", 1, \"and\", num2, \"again...\")\n",
    "print (\"Counting\", 1, \",\", num2, \"and\", num3)"
   ]
  },
  {
   "cell_type": "code",
   "execution_count": 11,
   "metadata": {
    "scrolled": true
   },
   "outputs": [
    {
     "name": "stdout",
     "output_type": "stream",
     "text": [
      "Counting 1...\n",
      "Counting 1 too...\n",
      "Counting 1 again...\n",
      "Counting 1 and 2...\n",
      "Counting 1 and 2 again...\n",
      "Counting 1, 2 and 3...\n"
     ]
    }
   ],
   "source": [
    "num1 = 1\n",
    "num2 = 2 \n",
    "num3 = 3\n",
    "\t\n",
    "print (\"Counting {}...\".format(num1))\n",
    "print (\"Counting {} too...\".format(1))\t\n",
    "print (\"Counting {num1} again...\".format(num1=num1))\n",
    "print (\"Counting {} and {}...\".format(num1, num2))\n",
    "print (\"Counting {} and {} again...\".format(1, num2))\n",
    "print (\"Counting {}, {} and {}...\".format(num1, num2, num3))"
   ]
  },
  {
   "cell_type": "code",
   "execution_count": 12,
   "metadata": {
    "scrolled": true
   },
   "outputs": [
    {
     "name": "stdout",
     "output_type": "stream",
     "text": [
      "int\t\t8\n",
      "int\t\t  8\n",
      "int\t\t008\n",
      "float\t\t3.141593\n",
      "float\t\t3.142\n",
      "string\t\tHello World\n"
     ]
    }
   ],
   "source": [
    "print (\"int\\t\\t{:d}\".format(8))\n",
    "print (\"int\\t\\t{:3d}\".format(8))\n",
    "print (\"int\\t\\t{:03d}\".format(8))\n",
    "print (\"float\\t\\t{:f}\".format(3.14159265358979323846264338327950288419))\n",
    "print (\"float\\t\\t{:.3f}\".format(3.14159265358979323846264338327950288419))\n",
    "print (\"string\\t\\t{:s}\".format(\"Hello World\"))"
   ]
  },
  {
   "cell_type": "code",
   "execution_count": 13,
   "metadata": {
    "scrolled": true
   },
   "outputs": [
    {
     "name": "stdout",
     "output_type": "stream",
     "text": [
      "Initial value of num1 is  0\n",
      "Enter new value of num1: 10\n",
      "New value of num1 is  10\n"
     ]
    }
   ],
   "source": [
    "num1 = result = 0\n",
    "\t\n",
    "print (\"Initial value of num1 is \", num1)\n",
    "num1 = int(input(\"Enter new value of num1: \"))\n",
    "\n",
    "print (\"New value of num1 is \", num1)"
   ]
  },
  {
   "cell_type": "code",
   "execution_count": 15,
   "metadata": {
    "scrolled": true
   },
   "outputs": [
    {
     "name": "stdout",
     "output_type": "stream",
     "text": [
      "Initial value of num1 is 0\n",
      "Initial value of num2 is 0.000000\n",
      "Enter new values for num1, num2: 20 10\n",
      "New value of num1 is 20\n",
      "New value of num2 is 10.000000\n"
     ]
    }
   ],
   "source": [
    "num1 = num2 = 0\n",
    "\n",
    "print (\"Initial value of num1 is %d\" % (num1))\n",
    "print (\"Initial value of num2 is %f\" % (num2))\n",
    "\n",
    "num1,num2 = input(\"Enter new values for num1, num2: \").split()\n",
    "num1 = int(num1)\n",
    "num2 = float(num2)\n",
    "\n",
    "print (\"New value of num1 is %d\" % (num1))\n",
    "print (\"New value of num2 is %f\" % (num2))"
   ]
  },
  {
   "cell_type": "code",
   "execution_count": 16,
   "metadata": {
    "scrolled": true
   },
   "outputs": [
    {
     "name": "stdout",
     "output_type": "stream",
     "text": [
      "Enter num1: 10\n",
      "Enter num2: 20\n",
      "I said num1 is less than or equal to num2!\n"
     ]
    }
   ],
   "source": [
    "num1 = int(input(\"Enter num1: \"));\n",
    "num2 = int(input(\"Enter num2: \"));\n",
    "\t\n",
    "if num1 > num2: #Optional evaluation\n",
    "\tprint (\"num1 is greater than num2.\")\n",
    "\n",
    "if num1 > num2: #Alternative evaluation\n",
    "\tprint (\"I said num1 is greater than num2!\")\n",
    "else:\n",
    "\tprint (\"I said num1 is less than or equal to num2!\")"
   ]
  },
  {
   "cell_type": "code",
   "execution_count": 17,
   "metadata": {
    "scrolled": true
   },
   "outputs": [
    {
     "name": "stdout",
     "output_type": "stream",
     "text": [
      "Enter marks: 64\n",
      "Your grade for 64 marks is B\n"
     ]
    }
   ],
   "source": [
    "marks = int(input(\"Enter marks: \"));\n",
    "\n",
    "if marks < 40:\n",
    "\tgrade = 'D'\n",
    "elif marks < 60:\n",
    "\tgrade = 'C'\n",
    "elif marks < 80:\n",
    "\tgrade = 'B'\n",
    "else:\n",
    "\tgrade = 'A'\n",
    "\t\n",
    "print (\"Your grade for %d marks is %s\" %(marks, grade))"
   ]
  },
  {
   "cell_type": "code",
   "execution_count": 18,
   "metadata": {
    "scrolled": true
   },
   "outputs": [
    {
     "name": "stdout",
     "output_type": "stream",
     "text": [
      "Enter num1: 20\n",
      "Enter num2: 30\n",
      "Enter num3: 41\n"
     ]
    }
   ],
   "source": [
    "num1 = int(input(\"Enter num1: \"));\n",
    "num2 = int(input(\"Enter num2: \"));\n",
    "num3 = int(input(\"Enter num3: \"));\n",
    "\t\n",
    "# Using logical And operator\n",
    "if (num1 >= num2) and (num1 >= num3):\n",
    "\tprint (\"num1 is the largest number.\")\n",
    "\n",
    "#Using nested if statement within the if clause\n",
    "if num1 >= num2:\n",
    "\tif num1 >= num3:\n",
    "\t\tprint (\"num1 is the largest number.\")"
   ]
  },
  {
   "cell_type": "code",
   "execution_count": 19,
   "metadata": {
    "scrolled": true
   },
   "outputs": [
    {
     "name": "stdout",
     "output_type": "stream",
     "text": [
      "Enter num1: 10\n",
      "Enter num2: 20\n",
      "Enter num3: 1\n",
      "Enter num3: 4\n",
      "num1 is smaller than num2.\n",
      "num1 is smaller than num2.\n"
     ]
    }
   ],
   "source": [
    "num1 = int(input(\"Enter num1: \"));\n",
    "num2 = int(input(\"Enter num2: \"));\n",
    "num3 = int(input(\"Enter num3: \"));\n",
    "num4 = int(input(\"Enter num3: \"));\n",
    "\t\n",
    "#Using if-else if statement\n",
    "if num1 < num2:\n",
    "\tprint (\"num1 is smaller than num2.\")\n",
    "elif num1 < num3:\n",
    "\tprint (\"num1 is smaller than num3.\")\n",
    "elif num1 < num4:\n",
    "\tprint (\"num1 is smaller than num4.\")\n",
    "else:\n",
    "\tprint (\"num1 is the largest number.\")\n",
    "\t\n",
    "#Using nested if statement within the else clause\n",
    "if num1 < num2:\n",
    "\tprint (\"num1 is smaller than num2.\")\n",
    "else:\n",
    "\tif num1 < num3:\n",
    "\t\tprint (\"num1 is smaller than num3.\")\n",
    "\telse:\n",
    "\t\tif num1 < num4:\n",
    "\t\t\tprint (\"num1 is smaller than num4.\")\n",
    "\t\telse:\n",
    "\t\t\tprint (\"num1 is the largest number.\")\n"
   ]
  },
  {
   "cell_type": "code",
   "execution_count": 20,
   "metadata": {
    "scrolled": true
   },
   "outputs": [
    {
     "name": "stdout",
     "output_type": "stream",
     "text": [
      "Do you want to exit (enter Y to exit)? y\n",
      "Do you want to exit (enter Y to exit)? Y\n",
      "Good Bye...\n"
     ]
    }
   ],
   "source": [
    "response = \"N\" # set response other than \"Y\" to loop at least once\n",
    "\n",
    "while response != \"Y\":\n",
    "    response = (input(\"Do you want to exit (enter Y to exit)? \"))\n",
    "\t\n",
    "print (\"Good Bye...\")"
   ]
  },
  {
   "cell_type": "code",
   "execution_count": 21,
   "metadata": {
    "scrolled": true
   },
   "outputs": [
    {
     "name": "stdout",
     "output_type": "stream",
     "text": [
      "Initialize num1 (1 to 4): 3\n",
      "num1 is 3\n",
      "End of program...\n"
     ]
    }
   ],
   "source": [
    "num1 = int(input(\"Initialize num1 (1 to 4): \"))\n",
    "\n",
    "while num1 <= 3:\n",
    "\tprint (\"num1 is\", num1)\n",
    "\tnum1 += 1\n",
    "\t\n",
    "print (\"End of program...\")"
   ]
  },
  {
   "cell_type": "code",
   "execution_count": 22,
   "metadata": {
    "scrolled": true
   },
   "outputs": [
    {
     "name": "stdout",
     "output_type": "stream",
     "text": [
      "Initialize num1 (1 to 4): 3\n",
      "num1 is 3 and i is 3 \n",
      "End of program...\n"
     ]
    }
   ],
   "source": [
    "num1 = int(input(\"Initialize num1 (1 to 4): \"))\n",
    "\n",
    "for i in range(num1,4):\n",
    "\tprint (\"num1 is %d and i is %d \" % (num1,i))\n",
    "\t\n",
    "print (\"End of program...\")"
   ]
  },
  {
   "cell_type": "code",
   "execution_count": 23,
   "metadata": {
    "scrolled": true
   },
   "outputs": [
    {
     "name": "stdout",
     "output_type": "stream",
     "text": [
      "1 * 1 = 1\n",
      "1 * 2 = 2\n",
      "1 * 3 = 3\n",
      "2 * 1 = 2\n",
      "2 * 2 = 4\n",
      "2 * 3 = 6\n",
      "3 * 1 = 3\n",
      "3 * 2 = 6\n",
      "3 * 3 = 9\n"
     ]
    }
   ],
   "source": [
    "for i in range(1,4):\n",
    "\tfor j in range(1,4):\n",
    "\t\tprint (\"%d * %d = %d\" % (i,j,i*j))\n"
   ]
  },
  {
   "cell_type": "code",
   "execution_count": 24,
   "metadata": {
    "scrolled": true
   },
   "outputs": [
    {
     "name": "stdout",
     "output_type": "stream",
     "text": [
      "1 * 1 = 1\n",
      "1 * 2 = 2\n",
      "1 * 3 = 3\n",
      "2 * 1 = 2\n",
      "2 * 2 = 4\n",
      "2 * 3 = 6\n",
      "3 * 1 = 3\n",
      "3 * 2 = 6\n",
      "3 * 3 = 9\n"
     ]
    }
   ],
   "source": [
    "i = 1\n",
    "\n",
    "while i <= 3:\n",
    "\tj=1\n",
    "\t\n",
    "\twhile j <= 3:\n",
    "\t\tprint (\"%d * %d = %d\" % (i,j,i*j))\n",
    "\t\tj += 1\n",
    "\t\t\n",
    "\ti += 1\n"
   ]
  },
  {
   "cell_type": "code",
   "execution_count": 25,
   "metadata": {
    "scrolled": true
   },
   "outputs": [
    {
     "name": "stdout",
     "output_type": "stream",
     "text": [
      "1 * 1 = 1\n",
      "2 * 1 = 2\n",
      "3 * 1 = 3\n"
     ]
    }
   ],
   "source": [
    "for i in range(1,4):\n",
    "\tfor j in range(1,4):\n",
    "\t\tif j == 2:\n",
    "\t\t\tbreak\n",
    "\t\tprint (\"%d * %d = %d\" % (i,j,i*j))"
   ]
  },
  {
   "cell_type": "code",
   "execution_count": 26,
   "metadata": {
    "scrolled": true
   },
   "outputs": [
    {
     "name": "stdout",
     "output_type": "stream",
     "text": [
      "Do you want to exit (enter Y to exit)? n\n",
      "Do you want to exit (enter Y to exit)? Y\n",
      "Good Bye...\n"
     ]
    }
   ],
   "source": [
    "response = 'N'\n",
    "\n",
    "while True:\n",
    "\tresponse = input(\"Do you want to exit (enter Y to exit)? \")\t\n",
    "\tif response == 'Y':\n",
    "\t\tbreak\n",
    "\t\n",
    "print (\"Good Bye...\")"
   ]
  },
  {
   "cell_type": "code",
   "execution_count": 27,
   "metadata": {
    "scrolled": true
   },
   "outputs": [
    {
     "name": "stdout",
     "output_type": "stream",
     "text": [
      "1 * 1 = 1\n",
      "1 * 3 = 3\n",
      "2 * 1 = 2\n",
      "2 * 3 = 6\n",
      "3 * 1 = 3\n",
      "3 * 3 = 9\n"
     ]
    }
   ],
   "source": [
    "for i in range(1,4):\n",
    "\tfor j in range(1,4):\n",
    "\t\tif j == 2:\n",
    "\t\t\tcontinue\n",
    "\t\tprint (\"%d * %d = %d\" % (i,j,i*j))"
   ]
  },
  {
   "cell_type": "code",
   "execution_count": 28,
   "metadata": {
    "scrolled": true
   },
   "outputs": [
    {
     "name": "stdout",
     "output_type": "stream",
     "text": [
      "{'banana', 'apple', 'pear', 'orange'}\n",
      "banana\n",
      "apple\n",
      "pear\n",
      "orange\n",
      "There is an apple\n",
      "{2, 4}\n",
      "{1, 2, 3, 4, 5, 6}\n",
      "{2, 4}\n",
      "{1, 3, 5, 6}\n"
     ]
    }
   ],
   "source": [
    "set = {'apple', 'orange', 'pear', 'banana', 'apple'}\n",
    "print(set)\n",
    "\n",
    "for item in set:\n",
    "    print(item)\n",
    "\n",
    "if 'apple' in set:\n",
    "    print('There is an apple')\n",
    "else:\n",
    "    print('There is NO apple')\n",
    "\n",
    "all = {1, 2, 3, 4, 5}\n",
    "odd = {1, 3, 5}\n",
    "even = {2, 4, 6}\n",
    "print(all - odd)  # numbers in all but not odd\n",
    "print(odd | even) # numbers in odd or even or both\n",
    "print(all & even) # numbers in both all and even\n",
    "print(all ^ even) # numbers in all or even but not both"
   ]
  },
  {
   "cell_type": "code",
   "execution_count": 29,
   "metadata": {
    "scrolled": true
   },
   "outputs": [
    {
     "name": "stdout",
     "output_type": "stream",
     "text": [
      "William\n",
      "name\n",
      "age\n",
      "city\n",
      "name=William\n",
      "age=25\n",
      "city=London\n"
     ]
    }
   ],
   "source": [
    "dict = {'name': 'William', 'age': 25, 'city': 'London'}\n",
    "print(dict['name'])\n",
    "\n",
    "for key in dict:\n",
    "    print(key)\n",
    "\n",
    "for key,value in dict.items():\n",
    "    print(key,value,sep='=')"
   ]
  },
  {
   "cell_type": "code",
   "execution_count": 30,
   "metadata": {},
   "outputs": [
    {
     "name": "stdout",
     "output_type": "stream",
     "text": [
      "{'brand': 'tesla', 'model': 'Mustang', 'year': 1964}\n",
      "brand tesla\n",
      "model Mustang\n",
      "year 1964\n",
      "Yes, 'model' is one of the keys in the thisdict dictionary\n",
      "{'brand': 'tesla', 'model': 'Mustang', 'year': 1964, 'color': 'red', 'price': 5600000}\n",
      "5600000\n",
      "{'brand': 'tesla', 'year': 1964, 'color': 'red'}\n"
     ]
    }
   ],
   "source": [
    "automobile = {\n",
    "    \"brand\": \"Ford\",\n",
    "    \"model\": \"Mustang\",\n",
    "    \"year\": 1964\n",
    "}\n",
    "\n",
    "automobile[\"brand\"] = \"tesla\"\n",
    "print(automobile)\n",
    "\n",
    "for x,y in automobile.items():\n",
    "    print(x,y)\n",
    "####################################################################    \n",
    "if \"model\" in automobile:\n",
    "    print(\"Yes, 'model' is one of the keys in the thisdict dictionary\")\n",
    "############################################################\n",
    "automobile[\"color\"] = \"red\"\n",
    "automobile[\"price\"] = 5600000\n",
    "print(automobile)\n",
    "#########################################################\n",
    "new_auto = automobile.pop(\"price\")\n",
    "print(new_auto)\n",
    "##################################################### \n",
    "del automobile[\"model\"]\n",
    "print(automobile)"
   ]
  },
  {
   "cell_type": "code",
   "execution_count": 31,
   "metadata": {},
   "outputs": [
    {
     "name": "stdout",
     "output_type": "stream",
     "text": [
      "{'karnataka': {'capital': 'Bangalore', 'year': 1973}, 'Chattisgarh': {'capital': 'Raipur', 'year': 2007}, 'Kashmir': {'capital': 'Srinagar', 'year': 2020}}\n",
      "{'state1': {'capital': 'Bangalore', 'year': 1973}, 'state2': {'capital': 'Raipur', 'year': 2007}, 'state3': {'capital': 'Srinagar', 'year': 2020}}\n"
     ]
    }
   ],
   "source": [
    "india = {\n",
    "    \"karnataka\" : {\n",
    "    \"capital\" : \"Bangalore\",\n",
    "    \"year\" : 1973\n",
    "  },\n",
    "  \"Chattisgarh\" : {\n",
    "      \"capital\" : \"Raipur\",\n",
    "      \"year\" : 2007\n",
    "  },  \n",
    "  \"Kashmir\" : {\n",
    "      \"capital\" : \"Srinagar\",\n",
    "      \"year\" : 2020\n",
    "  }\n",
    "}\n",
    "\n",
    "print(india)\n",
    "\n",
    "#####################################################################\n",
    "karnataka= {\n",
    "    \"capital\" : \"Bangalore\",\n",
    "    \"year\" : 1973\n",
    "  }\n",
    "\n",
    "Chattisgarh= {\n",
    "      \"capital\" : \"Raipur\",\n",
    "      \"year\" : 2007\n",
    "  }\n",
    "\n",
    "Kashmir= {\n",
    "      \"capital\" : \"Srinagar\",\n",
    "      \"year\" : 2020\n",
    "  }\n",
    "\n",
    "india={\n",
    "    \"state1\": karnataka,\n",
    "    \"state2\": Chattisgarh,\n",
    "    \"state3\": Kashmir\n",
    "}\n",
    "\n",
    "print(india)"
   ]
  },
  {
   "cell_type": "code",
   "execution_count": 32,
   "metadata": {
    "scrolled": true
   },
   "outputs": [
    {
     "name": "stdout",
     "output_type": "stream",
     "text": [
      "[1, 2, 3, 4]\n",
      "3\n",
      "[2, 3]\n",
      "4\n",
      "1\n",
      "2\n",
      "3\n",
      "4\n",
      "5\n",
      "2\n",
      "3\n",
      "4\n",
      "5\n",
      "6\n"
     ]
    }
   ],
   "source": [
    "list = [1,2,3,4]\n",
    "print(list)\n",
    "print(list[2])\n",
    "print(list[1:3])\n",
    "print(list[-1])\n",
    "\n",
    "items = [1,2,3,4,5]\n",
    "\n",
    "for i in range(len(items)):\n",
    "    print(items[i])\n",
    "\n",
    "for item in items:\n",
    "    print(item + 1)\n"
   ]
  },
  {
   "cell_type": "code",
   "execution_count": 33,
   "metadata": {
    "scrolled": true
   },
   "outputs": [
    {
     "name": "stdout",
     "output_type": "stream",
     "text": [
      "[[1, 2, 3], [4, 5, 6], [7, 8, 9]]\n",
      "[1, 2, 3]\n",
      "[4, 5, 6]\n",
      "[7, 8, 9]\n",
      "1\n",
      "2\n",
      "3\n",
      "4\n",
      "5\n",
      "6\n",
      "7\n",
      "8\n",
      "9\n"
     ]
    }
   ],
   "source": [
    "twodarray = [[1,2,3], [4,5,6], [7,8,9]]\n",
    "print(twodarray)\n",
    "\n",
    "for i in range(len(twodarray)):\n",
    "    print(twodarray[i])\n",
    "    \n",
    "for i in range(len(twodarray)):\n",
    "    for j in range(len(twodarray[i])):\n",
    "        print(twodarray[i][j])\n"
   ]
  },
  {
   "cell_type": "code",
   "execution_count": 34,
   "metadata": {
    "scrolled": true
   },
   "outputs": [
    {
     "name": "stdout",
     "output_type": "stream",
     "text": [
      "{'S001': {'name': 'Alice', 'age': 21}, 'S002': {'name': 'Bob', 'age': 18}, 'S003': {'name': 'Charles', 'age': 20}}\n",
      "S001.name = Alice\n",
      "S001.age = 21\n",
      "S002.name = Bob\n",
      "S002.age = 18\n",
      "S003.name = Charles\n",
      "S003.age = 20\n"
     ]
    }
   ],
   "source": [
    "twoddict = {'S001':{'name':'Alice', 'age':21},\n",
    "            'S002':{'name':'Bob', 'age':18},\n",
    "            'S003':{'name':'Charles', 'age':20}}\n",
    "print(twoddict)\n",
    "\n",
    "for key1 in twoddict:\n",
    "    for key2,value in twoddict[key1].items():\n",
    "        print(\"{}.{} = {}\".format(key1, key2, value))"
   ]
  },
  {
   "cell_type": "code",
   "execution_count": 35,
   "metadata": {},
   "outputs": [
    {
     "name": "stdout",
     "output_type": "stream",
     "text": [
      "500\n"
     ]
    }
   ],
   "source": [
    "def profit(sales,cost):\n",
    "    profit = sales-cost\n",
    "    print(profit)\n",
    "    return\n",
    "profit(2500,2000)\n"
   ]
  },
  {
   "cell_type": "code",
   "execution_count": 36,
   "metadata": {},
   "outputs": [
    {
     "name": "stdout",
     "output_type": "stream",
     "text": [
      "Apple mobile\n",
      "Samsung mobile\n",
      "Nokia mobile\n",
      "Oppo mobile\n"
     ]
    }
   ],
   "source": [
    "def amazon(products):\n",
    "    for i in products:\n",
    "        print(i+\" mobile\")\n",
    "\n",
    "brands = ['Apple','Samsung','Nokia','Oppo']\n",
    "amazon(brands)"
   ]
  },
  {
   "cell_type": "code",
   "execution_count": 37,
   "metadata": {},
   "outputs": [
    {
     "name": "stdout",
     "output_type": "stream",
     "text": [
      "\n",
      "\n",
      "Recursion Example Results\n",
      "1\n",
      "3\n",
      "6\n",
      "10\n",
      "15\n",
      "21\n"
     ]
    },
    {
     "data": {
      "text/plain": [
       "21"
      ]
     },
     "execution_count": 37,
     "metadata": {},
     "output_type": "execute_result"
    }
   ],
   "source": [
    "def tri_recursion(k):\n",
    "  if(k>0):\n",
    "    result = k+tri_recursion(k-1)\n",
    "    print(result)\n",
    "  else:\n",
    "    result = 0\n",
    "  return result\n",
    "\n",
    "print(\"\\n\\nRecursion Example Results\")\n",
    "tri_recursion(6)"
   ]
  },
  {
   "cell_type": "code",
   "execution_count": 38,
   "metadata": {},
   "outputs": [
    {
     "name": "stdout",
     "output_type": "stream",
     "text": [
      "15\n",
      "30\n"
     ]
    }
   ],
   "source": [
    "x = lambda a : a + 10\n",
    "print(x(5))\n",
    "\n",
    "x = lambda a, b : a * b\n",
    "print(x(5, 6))"
   ]
  },
  {
   "cell_type": "code",
   "execution_count": 39,
   "metadata": {},
   "outputs": [
    {
     "name": "stdout",
     "output_type": "stream",
     "text": [
      "The value of pi is 3.141592653589793\n"
     ]
    }
   ],
   "source": [
    "# Python Module example. Make this code seperately and save as example.py. Then import to python and run\n",
    "def profit(sales, cost):\n",
    "   \"\"\"This program computes profit\n",
    "   numbers and return the result\"\"\"\n",
    "   result = sales - cost\n",
    "   return result\n",
    "\n",
    "#import example\n",
    "profit(500,400)\n",
    "\n",
    "#########################################\n",
    "# import only pi from math module\n",
    "\n",
    "from math import pi\n",
    "print(\"The value of pi is\", pi)"
   ]
  },
  {
   "cell_type": "code",
   "execution_count": 41,
   "metadata": {},
   "outputs": [],
   "source": [
    "#syntax for importing various packages\n",
    "import numpy as np\n",
    "import pandas as pd\n",
    "import matplotlib.pyplot as plt"
   ]
  },
  {
   "cell_type": "code",
   "execution_count": 42,
   "metadata": {},
   "outputs": [
    {
     "name": "stdout",
     "output_type": "stream",
     "text": [
      "The entry is a\n",
      "Oops! <class 'ValueError'> occured.\n",
      "Next entry.\n",
      "\n",
      "The entry is 0\n",
      "Oops! <class 'ZeroDivisionError'> occured.\n",
      "Next entry.\n",
      "\n",
      "The entry is 23\n",
      "The reciprocal of 23 is 0.043478260869565216\n"
     ]
    }
   ],
   "source": [
    "#Exception handling and debugging using try\n",
    "# import module sys to get the type of exception\n",
    "import sys\n",
    "\n",
    "randomList = ['a', 0, 23]\n",
    "\n",
    "for entry in randomList:\n",
    "    try:\n",
    "        print(\"The entry is\", entry)\n",
    "        reciprocal = 1/int(entry)\n",
    "        break\n",
    "    except:\n",
    "        print(\"Oops!\",sys.exc_info()[0],\"occured.\")\n",
    "        print(\"Next entry.\")\n",
    "        print()\n",
    "print(\"The reciprocal of\",entry,\"is\",reciprocal)"
   ]
  },
  {
   "cell_type": "code",
   "execution_count": 43,
   "metadata": {},
   "outputs": [
    {
     "name": "stdout",
     "output_type": "stream",
     "text": [
      "Enter a number: 22\n",
      "This value is too large, try again!\n",
      "\n",
      "Enter a number: 33\n",
      "This value is too large, try again!\n",
      "\n",
      "Enter a number: 1\n",
      "This value is too small, try again!\n",
      "\n",
      "Enter a number: 13\n",
      "This value is too large, try again!\n",
      "\n",
      "Enter a number: 3\n",
      "This value is too small, try again!\n",
      "\n",
      "Enter a number: 5\n",
      "This value is too small, try again!\n",
      "\n",
      "Enter a number: 10\n",
      "Congratulations! You guessed it correctly.\n"
     ]
    }
   ],
   "source": [
    "# define Python user-defined exceptions\n",
    "class Error(Exception):\n",
    "   \"\"\"Base class for other exceptions\"\"\"\n",
    "   pass\n",
    "class ValueTooSmallError(Error):\n",
    "   \"\"\"Raised when the input value is too small\"\"\"\n",
    "   pass\n",
    "class ValueTooLargeError(Error):\n",
    "   \"\"\"Raised when the input value is too large\"\"\"\n",
    "   pass\n",
    "# our main program\n",
    "# user guesses a number until he/she gets it right\n",
    "# you need to guess this number\n",
    "number = 10\n",
    "while True:\n",
    "   try:\n",
    "       i_num = int(input(\"Enter a number: \"))\n",
    "       if i_num < number:\n",
    "           raise ValueTooSmallError\n",
    "       elif i_num > number:\n",
    "           raise ValueTooLargeError\n",
    "       break\n",
    "   except ValueTooSmallError:\n",
    "       print(\"This value is too small, try again!\")\n",
    "       print()\n",
    "   except ValueTooLargeError:\n",
    "       print(\"This value is too large, try again!\")\n",
    "       print()\n",
    "print(\"Congratulations! You guessed it correctly.\")"
   ]
  },
  {
   "cell_type": "markdown",
   "metadata": {},
   "source": [
    "Temperature Conversion\n",
    "\n",
    "The two most commonly used temperature scales are the Celsius scale (°C) and the\n",
    "Fahrenheit scale (°F). On the Celsius scale, the freezing point of water is defined as 0°C and\n",
    "the boiling point of water is defined as 100°C. On the Fahrenheit scale, the freezing point of\n",
    "water is defined as 32°F and the boiling point of water is defined as 212°F.\n",
    "\n",
    "Write a Python program that asks user for the temperature in Celsius and the print out the\n",
    "equivalent temperature in Fahrenheit.\n",
    "\n",
    "Write another Python program that asks user for the temperature in Fahrenheit and the print \n",
    "out the equivalent temperature in Celsius "
   ]
  },
  {
   "cell_type": "code",
   "execution_count": 44,
   "metadata": {},
   "outputs": [
    {
     "name": "stdout",
     "output_type": "stream",
     "text": [
      "Enter the temperature in Celsius: 20\n",
      "Temperature in Farenheit =  68.0\n",
      "Enter the temperature in Farenheit: 40\n",
      "Temperature in Celsius =  4.444444444444445\n"
     ]
    }
   ],
   "source": [
    "c = float(input(\"Enter the temperature in Celsius: \"))\n",
    "print(\"Temperature in Farenheit = \", (9*c/5 + 32))\n",
    "\n",
    "f = float(input(\"Enter the temperature in Farenheit: \"))\n",
    "print(\"Temperature in Celsius = \", (f-32)*5/9)"
   ]
  },
  {
   "cell_type": "markdown",
   "metadata": {},
   "source": [
    "Find the Last Digit\n",
    "\n",
    "Write a Python program to print out the last digit, i.e., the rightmost digit, of any positive\n",
    "integer input by the user.\n",
    "\n",
    "You are NOT allowed to treat the input as string."
   ]
  },
  {
   "cell_type": "code",
   "execution_count": 45,
   "metadata": {},
   "outputs": [
    {
     "name": "stdout",
     "output_type": "stream",
     "text": [
      "Enter a number: 40\n",
      "Last digit:  0\n"
     ]
    }
   ],
   "source": [
    "num = int(input(\"Enter a number: \"))\n",
    "if num>=0:\n",
    "    print(\"Last digit: \",num%10)\n",
    "else:\n",
    "    print(\"Negative number\")"
   ]
  },
  {
   "cell_type": "markdown",
   "metadata": {},
   "source": [
    "Find the Largest Number\n",
    "\n",
    "Write a Python program that asks user to input 3 integers and print out the largest integer. If\n",
    "the largest integer is duplicated, simply print out the first occurrence.\n"
   ]
  },
  {
   "cell_type": "code",
   "execution_count": 46,
   "metadata": {},
   "outputs": [
    {
     "name": "stdout",
     "output_type": "stream",
     "text": [
      "Enter 3 integers\n",
      "3\n",
      "3\n",
      "6\n",
      "6\n"
     ]
    }
   ],
   "source": [
    "print(\"Enter 3 integers\")\n",
    "a = int(input())\n",
    "b = int(input())\n",
    "c = int(input())\n",
    "\n",
    "if a>b:\n",
    "    if a>c:\n",
    "        print(a)\n",
    "    else:\n",
    "        print(c)\n",
    "else:\n",
    "    if b>c:\n",
    "        print(b)\n",
    "    else:\n",
    "        print(c)"
   ]
  },
  {
   "cell_type": "markdown",
   "metadata": {},
   "source": [
    "Enhanced Temperature Conversion\n",
    "\n",
    "Let’s try to enhance the programs that you have written in PE01-03. Write a single Python\n",
    "program that asks user for the type of temperature conversion that is required, either Celsius\n",
    "to Fahrenheit or Fahrenheit to Celsius. Next, the program should ask user to input the\n",
    "temperature in the original scale. Finally, the program should convert the input temperature to\n",
    "the required scale before printing out the converted temperature.\n",
    "\n",
    "Depending on the type of temperature conversion selected by the user, check that the original\n",
    "temperature input by the user is within the boiling point of water and the freezing point of\n",
    "water for the original temperature scale.\n",
    " \n",
    "If the input temperature is valid, continue to perform the temperature conversion and print out \n",
    "the converted temperature. Otherwise, print out an error message"
   ]
  },
  {
   "cell_type": "code",
   "execution_count": 47,
   "metadata": {},
   "outputs": [
    {
     "name": "stdout",
     "output_type": "stream",
     "text": [
      "1 - Celsius to Farenheit\n",
      "2 - Farenheit to Celsius\n",
      "Enter your choice: 1\n",
      "Enter temperature in celsius: 20\n",
      "Temperature in Farenheit =  68.0\n"
     ]
    }
   ],
   "source": [
    "print(\"1 - Celsius to Farenheit\")\n",
    "print(\"2 - Farenheit to Celsius\")\n",
    "choice = int(input(\"Enter your choice: \"))\n",
    "\n",
    "if choice == 1:\n",
    "    c = float(input(\"Enter temperature in celsius: \"))\n",
    "    if 0 < c < 100:\n",
    "        print(\"Temperature in Farenheit = \", (9*c/5 + 32))\n",
    "    else:\n",
    "        print(\"Invalid temperature\")\n",
    "elif choice == 2:\n",
    "    f = float(input(\"Enter temperature in farenheit: \"))\n",
    "    if 32 < f < 212:\n",
    "        print(\"Temperature in Celsius = \", (f-32)*5/9)\n",
    "    else:\n",
    "        print(\"Invalid temperature\")\n",
    "else:\n",
    "    print(\"Invalid choice\")"
   ]
  },
  {
   "cell_type": "markdown",
   "metadata": {},
   "source": [
    "Times Table\n",
    "\n",
    "Write a Python program that asks user to input a positive integer. Thereafter, the program\n",
    "should print out the times table of the integer from 1 to 10."
   ]
  },
  {
   "cell_type": "code",
   "execution_count": 48,
   "metadata": {},
   "outputs": [
    {
     "name": "stdout",
     "output_type": "stream",
     "text": [
      "Enter a number: 4\n",
      "Num is a perfect square\n"
     ]
    }
   ],
   "source": [
    "num = int(input(\"Enter a number: \"))\n",
    "\n",
    "flag = 0\n",
    "for i in range(1,int(num)):\n",
    "    if i**2 == num:\n",
    "        print(\"Num is a perfect square\")\n",
    "        flag = 1\n",
    "        break;\n",
    "\n",
    "if flag == 0:\n",
    "    print(\"Not a perfect square\")"
   ]
  },
  {
   "cell_type": "markdown",
   "metadata": {},
   "source": [
    "Find the First Digit\n",
    "\n",
    "Write a Python program to print out the first digit, i.e., the leftmost digit, of any positive\n",
    "integer input by the user. You may assume that the input integer has at most 8 digits.\n",
    "\n",
    "You are NOT allowed to treat the input as string."
   ]
  },
  {
   "cell_type": "code",
   "execution_count": 50,
   "metadata": {},
   "outputs": [
    {
     "name": "stdout",
     "output_type": "stream",
     "text": [
      "Enter a number: 7483\n",
      "Leftmost digit is:  7\n"
     ]
    }
   ],
   "source": [
    "num = input(\"Enter a number: \")\n",
    "#print(\"Leftmost digit\", num[0])\n",
    "l = len(num)\n",
    "num = int(num)\n",
    "\n",
    "for i in range(l-1):\n",
    "    num = int(num/10)\n",
    "print(\"Leftmost digit is: \",num)"
   ]
  },
  {
   "cell_type": "markdown",
   "metadata": {},
   "source": [
    "Find Any Digit:\n",
    "\n",
    "Write a Python program to print out the nth digit, starting from the left, of any positive integer input by the user. You may assume that the input integer has at most 8 digits. You are NOT allowed to treat the input as string."
   ]
  },
  {
   "cell_type": "code",
   "execution_count": 51,
   "metadata": {},
   "outputs": [
    {
     "name": "stdout",
     "output_type": "stream",
     "text": [
      "Enter a number: 2202\n",
      "Enter position of digit:3\n",
      "Digit 3 is 0\n"
     ]
    }
   ],
   "source": [
    "num = input(\"Enter a number: \")\n",
    "pos = int(input(\"Enter position of digit:\"))\n",
    "#print(\"Digit\",pos,\"is\",num[pos-1])\n",
    "\n",
    "temp = len(num)-pos\n",
    "num = int(num)\n",
    "\n",
    "while temp>0:\n",
    "    num = int(num/10)\n",
    "    temp -= 1\n",
    "print(\"Digit\",pos,\"is\",num%10)\n"
   ]
  },
  {
   "cell_type": "markdown",
   "metadata": {},
   "source": [
    " Simple Integer Sorting\n",
    "\n",
    "Write a Python program that asks the user to enter any 5 integers. Thereafter, the program\n",
    "should arrange or sort the integers in ascending order, that is smallest integer first and the\n",
    "largest integer last, and print out the sorted integers."
   ]
  },
  {
   "cell_type": "code",
   "execution_count": 52,
   "metadata": {},
   "outputs": [
    {
     "name": "stdout",
     "output_type": "stream",
     "text": [
      "Enter 5 integers\n",
      "2\n",
      "9\n",
      "6\n",
      "3\n",
      "5\n",
      "[2, 3, 5, 6, 9]\n"
     ]
    }
   ],
   "source": [
    "print(\"Enter 5 integers\")\n",
    "l = []\n",
    "for i in range(5):\n",
    "    l.append(int(input()))\n",
    "\n",
    "for i in range(5):\n",
    "    for j in range(4-i):\n",
    "        if l[j] > l[j+1]:\n",
    "            temp = l[j]\n",
    "            l[j] = l[j+1]\n",
    "            l[j+1] = temp\n",
    "print(l)\n",
    "        "
   ]
  },
  {
   "cell_type": "code",
   "execution_count": null,
   "metadata": {},
   "outputs": [],
   "source": []
  }
 ],
 "metadata": {
  "kernelspec": {
   "display_name": "Python 3",
   "language": "python",
   "name": "python3"
  },
  "language_info": {
   "codemirror_mode": {
    "name": "ipython",
    "version": 3
   },
   "file_extension": ".py",
   "mimetype": "text/x-python",
   "name": "python",
   "nbconvert_exporter": "python",
   "pygments_lexer": "ipython3",
   "version": "3.7.4"
  }
 },
 "nbformat": 4,
 "nbformat_minor": 2
}
