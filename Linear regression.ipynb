{
 "cells": [
  {
   "cell_type": "code",
   "execution_count": 4,
   "metadata": {},
   "outputs": [],
   "source": [
    "import numpy as np\n",
    "import pandas as pd\n",
    "import matplotlib.pyplot as plt\n",
    "import seaborn as sns\n",
    "import sklearn as sklearn\n",
    "import scipy"
   ]
  },
  {
   "cell_type": "code",
   "execution_count": 5,
   "metadata": {},
   "outputs": [],
   "source": [
    "# load dataset\n",
    "df = pd.read_csv('C:/Users/Administrator/Desktop/Data/gradedata.csv')\n",
    "%matplotlib inline"
   ]
  },
  {
   "cell_type": "code",
   "execution_count": 6,
   "metadata": {},
   "outputs": [
    {
     "data": {
      "text/html": [
       "<div>\n",
       "<style scoped>\n",
       "    .dataframe tbody tr th:only-of-type {\n",
       "        vertical-align: middle;\n",
       "    }\n",
       "\n",
       "    .dataframe tbody tr th {\n",
       "        vertical-align: top;\n",
       "    }\n",
       "\n",
       "    .dataframe thead th {\n",
       "        text-align: right;\n",
       "    }\n",
       "</style>\n",
       "<table border=\"1\" class=\"dataframe\">\n",
       "  <thead>\n",
       "    <tr style=\"text-align: right;\">\n",
       "      <th></th>\n",
       "      <th>fname</th>\n",
       "      <th>lname</th>\n",
       "      <th>gender</th>\n",
       "      <th>age</th>\n",
       "      <th>exercise</th>\n",
       "      <th>hours</th>\n",
       "      <th>grade</th>\n",
       "      <th>address</th>\n",
       "    </tr>\n",
       "  </thead>\n",
       "  <tbody>\n",
       "    <tr>\n",
       "      <td>0</td>\n",
       "      <td>Marcia</td>\n",
       "      <td>Pugh</td>\n",
       "      <td>female</td>\n",
       "      <td>17</td>\n",
       "      <td>3</td>\n",
       "      <td>10</td>\n",
       "      <td>82.4</td>\n",
       "      <td>9253 Richardson Road, Matawan, NJ 07747</td>\n",
       "    </tr>\n",
       "    <tr>\n",
       "      <td>1</td>\n",
       "      <td>Kadeem</td>\n",
       "      <td>Morrison</td>\n",
       "      <td>male</td>\n",
       "      <td>18</td>\n",
       "      <td>4</td>\n",
       "      <td>4</td>\n",
       "      <td>78.2</td>\n",
       "      <td>33 Spring Dr., Taunton, MA 02780</td>\n",
       "    </tr>\n",
       "    <tr>\n",
       "      <td>2</td>\n",
       "      <td>Nash</td>\n",
       "      <td>Powell</td>\n",
       "      <td>male</td>\n",
       "      <td>18</td>\n",
       "      <td>5</td>\n",
       "      <td>9</td>\n",
       "      <td>79.3</td>\n",
       "      <td>41 Hill Avenue, Mentor, OH 44060</td>\n",
       "    </tr>\n",
       "    <tr>\n",
       "      <td>3</td>\n",
       "      <td>Noelani</td>\n",
       "      <td>Wagner</td>\n",
       "      <td>female</td>\n",
       "      <td>14</td>\n",
       "      <td>2</td>\n",
       "      <td>7</td>\n",
       "      <td>83.2</td>\n",
       "      <td>8839 Marshall St., Miami, FL 33125</td>\n",
       "    </tr>\n",
       "    <tr>\n",
       "      <td>4</td>\n",
       "      <td>Noelani</td>\n",
       "      <td>Cherry</td>\n",
       "      <td>female</td>\n",
       "      <td>18</td>\n",
       "      <td>4</td>\n",
       "      <td>15</td>\n",
       "      <td>87.4</td>\n",
       "      <td>8304 Charles Rd., Lewis Center, OH 43035</td>\n",
       "    </tr>\n",
       "  </tbody>\n",
       "</table>\n",
       "</div>"
      ],
      "text/plain": [
       "     fname     lname  gender  age  exercise  hours  grade  \\\n",
       "0   Marcia      Pugh  female   17         3     10   82.4   \n",
       "1   Kadeem  Morrison    male   18         4      4   78.2   \n",
       "2     Nash    Powell    male   18         5      9   79.3   \n",
       "3  Noelani    Wagner  female   14         2      7   83.2   \n",
       "4  Noelani    Cherry  female   18         4     15   87.4   \n",
       "\n",
       "                                    address  \n",
       "0   9253 Richardson Road, Matawan, NJ 07747  \n",
       "1          33 Spring Dr., Taunton, MA 02780  \n",
       "2          41 Hill Avenue, Mentor, OH 44060  \n",
       "3        8839 Marshall St., Miami, FL 33125  \n",
       "4  8304 Charles Rd., Lewis Center, OH 43035  "
      ]
     },
     "execution_count": 6,
     "metadata": {},
     "output_type": "execute_result"
    }
   ],
   "source": [
    "#descriptive analytics\n",
    "#first 5 data\n",
    "df.head()\n"
   ]
  },
  {
   "cell_type": "code",
   "execution_count": 7,
   "metadata": {},
   "outputs": [
    {
     "data": {
      "text/html": [
       "<div>\n",
       "<style scoped>\n",
       "    .dataframe tbody tr th:only-of-type {\n",
       "        vertical-align: middle;\n",
       "    }\n",
       "\n",
       "    .dataframe tbody tr th {\n",
       "        vertical-align: top;\n",
       "    }\n",
       "\n",
       "    .dataframe thead th {\n",
       "        text-align: right;\n",
       "    }\n",
       "</style>\n",
       "<table border=\"1\" class=\"dataframe\">\n",
       "  <thead>\n",
       "    <tr style=\"text-align: right;\">\n",
       "      <th></th>\n",
       "      <th>fname</th>\n",
       "      <th>lname</th>\n",
       "      <th>gender</th>\n",
       "      <th>age</th>\n",
       "      <th>exercise</th>\n",
       "      <th>hours</th>\n",
       "      <th>grade</th>\n",
       "      <th>address</th>\n",
       "    </tr>\n",
       "  </thead>\n",
       "  <tbody>\n",
       "    <tr>\n",
       "      <td>1995</td>\n",
       "      <td>Cody</td>\n",
       "      <td>Shepherd</td>\n",
       "      <td>male</td>\n",
       "      <td>19</td>\n",
       "      <td>1</td>\n",
       "      <td>8</td>\n",
       "      <td>80.1</td>\n",
       "      <td>982 West Street, Alexandria, VA 22304</td>\n",
       "    </tr>\n",
       "    <tr>\n",
       "      <td>1996</td>\n",
       "      <td>Geraldine</td>\n",
       "      <td>Peterson</td>\n",
       "      <td>female</td>\n",
       "      <td>16</td>\n",
       "      <td>4</td>\n",
       "      <td>18</td>\n",
       "      <td>100.0</td>\n",
       "      <td>78 Morris Street, East Northport, NY 11731</td>\n",
       "    </tr>\n",
       "    <tr>\n",
       "      <td>1997</td>\n",
       "      <td>Mercedes</td>\n",
       "      <td>Leon</td>\n",
       "      <td>female</td>\n",
       "      <td>18</td>\n",
       "      <td>3</td>\n",
       "      <td>14</td>\n",
       "      <td>84.9</td>\n",
       "      <td>30 Glenridge Rd., Bountiful, UT 84010</td>\n",
       "    </tr>\n",
       "    <tr>\n",
       "      <td>1998</td>\n",
       "      <td>Lucius</td>\n",
       "      <td>Rowland</td>\n",
       "      <td>male</td>\n",
       "      <td>16</td>\n",
       "      <td>1</td>\n",
       "      <td>7</td>\n",
       "      <td>69.1</td>\n",
       "      <td>342 West Meadowbrook Lane, Helena, MT 59601</td>\n",
       "    </tr>\n",
       "    <tr>\n",
       "      <td>1999</td>\n",
       "      <td>Linus</td>\n",
       "      <td>Morris</td>\n",
       "      <td>male</td>\n",
       "      <td>19</td>\n",
       "      <td>4</td>\n",
       "      <td>10</td>\n",
       "      <td>79.6</td>\n",
       "      <td>81 Homestead Drive, Voorhees, NJ 08043</td>\n",
       "    </tr>\n",
       "  </tbody>\n",
       "</table>\n",
       "</div>"
      ],
      "text/plain": [
       "          fname     lname  gender  age  exercise  hours  grade  \\\n",
       "1995       Cody  Shepherd    male   19         1      8   80.1   \n",
       "1996  Geraldine  Peterson  female   16         4     18  100.0   \n",
       "1997   Mercedes      Leon  female   18         3     14   84.9   \n",
       "1998     Lucius   Rowland    male   16         1      7   69.1   \n",
       "1999      Linus    Morris    male   19         4     10   79.6   \n",
       "\n",
       "                                          address  \n",
       "1995        982 West Street, Alexandria, VA 22304  \n",
       "1996   78 Morris Street, East Northport, NY 11731  \n",
       "1997        30 Glenridge Rd., Bountiful, UT 84010  \n",
       "1998  342 West Meadowbrook Lane, Helena, MT 59601  \n",
       "1999       81 Homestead Drive, Voorhees, NJ 08043  "
      ]
     },
     "execution_count": 7,
     "metadata": {},
     "output_type": "execute_result"
    }
   ],
   "source": [
    "#last 5 data\n",
    "df.tail()"
   ]
  },
  {
   "cell_type": "code",
   "execution_count": 8,
   "metadata": {},
   "outputs": [],
   "source": [
    "# find datatype of each column\n",
    "data_types = pd.DataFrame(df.dtypes, columns=['Data Type'])"
   ]
  },
  {
   "cell_type": "code",
   "execution_count": 9,
   "metadata": {},
   "outputs": [
    {
     "data": {
      "text/html": [
       "<div>\n",
       "<style scoped>\n",
       "    .dataframe tbody tr th:only-of-type {\n",
       "        vertical-align: middle;\n",
       "    }\n",
       "\n",
       "    .dataframe tbody tr th {\n",
       "        vertical-align: top;\n",
       "    }\n",
       "\n",
       "    .dataframe thead th {\n",
       "        text-align: right;\n",
       "    }\n",
       "</style>\n",
       "<table border=\"1\" class=\"dataframe\">\n",
       "  <thead>\n",
       "    <tr style=\"text-align: right;\">\n",
       "      <th></th>\n",
       "      <th>Data Type</th>\n",
       "    </tr>\n",
       "  </thead>\n",
       "  <tbody>\n",
       "    <tr>\n",
       "      <td>fname</td>\n",
       "      <td>object</td>\n",
       "    </tr>\n",
       "    <tr>\n",
       "      <td>lname</td>\n",
       "      <td>object</td>\n",
       "    </tr>\n",
       "    <tr>\n",
       "      <td>gender</td>\n",
       "      <td>object</td>\n",
       "    </tr>\n",
       "    <tr>\n",
       "      <td>age</td>\n",
       "      <td>int64</td>\n",
       "    </tr>\n",
       "    <tr>\n",
       "      <td>exercise</td>\n",
       "      <td>int64</td>\n",
       "    </tr>\n",
       "    <tr>\n",
       "      <td>hours</td>\n",
       "      <td>int64</td>\n",
       "    </tr>\n",
       "    <tr>\n",
       "      <td>grade</td>\n",
       "      <td>float64</td>\n",
       "    </tr>\n",
       "    <tr>\n",
       "      <td>address</td>\n",
       "      <td>object</td>\n",
       "    </tr>\n",
       "  </tbody>\n",
       "</table>\n",
       "</div>"
      ],
      "text/plain": [
       "         Data Type\n",
       "fname       object\n",
       "lname       object\n",
       "gender      object\n",
       "age          int64\n",
       "exercise     int64\n",
       "hours        int64\n",
       "grade      float64\n",
       "address     object"
      ]
     },
     "execution_count": 9,
     "metadata": {},
     "output_type": "execute_result"
    }
   ],
   "source": [
    "data_types"
   ]
  },
  {
   "cell_type": "code",
   "execution_count": 10,
   "metadata": {},
   "outputs": [
    {
     "name": "stdout",
     "output_type": "stream",
     "text": [
      "          Missing Values\n",
      "fname                  0\n",
      "lname                  0\n",
      "gender                 0\n",
      "age                    0\n",
      "exercise               0\n",
      "hours                  0\n",
      "grade                  0\n",
      "address                0\n"
     ]
    }
   ],
   "source": [
    "# count number of missing observations by column\n",
    "missing_data_counts = pd.DataFrame(df.isnull().sum(), columns=['Missing Values'])\n",
    "print(missing_data_counts)"
   ]
  },
  {
   "cell_type": "code",
   "execution_count": 11,
   "metadata": {},
   "outputs": [
    {
     "data": {
      "text/html": [
       "<div>\n",
       "<style scoped>\n",
       "    .dataframe tbody tr th:only-of-type {\n",
       "        vertical-align: middle;\n",
       "    }\n",
       "\n",
       "    .dataframe tbody tr th {\n",
       "        vertical-align: top;\n",
       "    }\n",
       "\n",
       "    .dataframe thead th {\n",
       "        text-align: right;\n",
       "    }\n",
       "</style>\n",
       "<table border=\"1\" class=\"dataframe\">\n",
       "  <thead>\n",
       "    <tr style=\"text-align: right;\">\n",
       "      <th></th>\n",
       "      <th>age</th>\n",
       "      <th>exercise</th>\n",
       "      <th>hours</th>\n",
       "      <th>grade</th>\n",
       "    </tr>\n",
       "  </thead>\n",
       "  <tbody>\n",
       "    <tr>\n",
       "      <td>count</td>\n",
       "      <td>2000.000000</td>\n",
       "      <td>2000.000000</td>\n",
       "      <td>2000.000000</td>\n",
       "      <td>2000.000000</td>\n",
       "    </tr>\n",
       "    <tr>\n",
       "      <td>mean</td>\n",
       "      <td>16.578500</td>\n",
       "      <td>3.000500</td>\n",
       "      <td>10.988500</td>\n",
       "      <td>82.556050</td>\n",
       "    </tr>\n",
       "    <tr>\n",
       "      <td>std</td>\n",
       "      <td>1.696254</td>\n",
       "      <td>1.423205</td>\n",
       "      <td>4.063942</td>\n",
       "      <td>9.747593</td>\n",
       "    </tr>\n",
       "    <tr>\n",
       "      <td>min</td>\n",
       "      <td>14.000000</td>\n",
       "      <td>0.000000</td>\n",
       "      <td>0.000000</td>\n",
       "      <td>32.000000</td>\n",
       "    </tr>\n",
       "    <tr>\n",
       "      <td>25%</td>\n",
       "      <td>15.000000</td>\n",
       "      <td>2.000000</td>\n",
       "      <td>8.000000</td>\n",
       "      <td>75.575000</td>\n",
       "    </tr>\n",
       "    <tr>\n",
       "      <td>50%</td>\n",
       "      <td>17.000000</td>\n",
       "      <td>3.000000</td>\n",
       "      <td>11.000000</td>\n",
       "      <td>82.700000</td>\n",
       "    </tr>\n",
       "    <tr>\n",
       "      <td>75%</td>\n",
       "      <td>18.000000</td>\n",
       "      <td>4.000000</td>\n",
       "      <td>14.000000</td>\n",
       "      <td>89.700000</td>\n",
       "    </tr>\n",
       "    <tr>\n",
       "      <td>max</td>\n",
       "      <td>19.000000</td>\n",
       "      <td>5.000000</td>\n",
       "      <td>20.000000</td>\n",
       "      <td>100.000000</td>\n",
       "    </tr>\n",
       "  </tbody>\n",
       "</table>\n",
       "</div>"
      ],
      "text/plain": [
       "               age     exercise        hours        grade\n",
       "count  2000.000000  2000.000000  2000.000000  2000.000000\n",
       "mean     16.578500     3.000500    10.988500    82.556050\n",
       "std       1.696254     1.423205     4.063942     9.747593\n",
       "min      14.000000     0.000000     0.000000    32.000000\n",
       "25%      15.000000     2.000000     8.000000    75.575000\n",
       "50%      17.000000     3.000000    11.000000    82.700000\n",
       "75%      18.000000     4.000000    14.000000    89.700000\n",
       "max      19.000000     5.000000    20.000000   100.000000"
      ]
     },
     "execution_count": 11,
     "metadata": {},
     "output_type": "execute_result"
    }
   ],
   "source": [
    "df.describe()"
   ]
  },
  {
   "cell_type": "code",
   "execution_count": 20,
   "metadata": {},
   "outputs": [
    {
     "data": {
      "text/plain": [
       "(2000, 8)"
      ]
     },
     "execution_count": 20,
     "metadata": {},
     "output_type": "execute_result"
    }
   ],
   "source": [
    "df.shape"
   ]
  },
  {
   "cell_type": "code",
   "execution_count": 21,
   "metadata": {},
   "outputs": [
    {
     "data": {
      "text/plain": [
       "16000"
      ]
     },
     "execution_count": 21,
     "metadata": {},
     "output_type": "execute_result"
    }
   ],
   "source": [
    "df.size"
   ]
  },
  {
   "cell_type": "code",
   "execution_count": 12,
   "metadata": {},
   "outputs": [],
   "source": [
    "#data cleaning\n",
    "new_df=df.iloc[:,2:7]"
   ]
  },
  {
   "cell_type": "code",
   "execution_count": 23,
   "metadata": {},
   "outputs": [
    {
     "data": {
      "text/html": [
       "<div>\n",
       "<style scoped>\n",
       "    .dataframe tbody tr th:only-of-type {\n",
       "        vertical-align: middle;\n",
       "    }\n",
       "\n",
       "    .dataframe tbody tr th {\n",
       "        vertical-align: top;\n",
       "    }\n",
       "\n",
       "    .dataframe thead th {\n",
       "        text-align: right;\n",
       "    }\n",
       "</style>\n",
       "<table border=\"1\" class=\"dataframe\">\n",
       "  <thead>\n",
       "    <tr style=\"text-align: right;\">\n",
       "      <th></th>\n",
       "      <th>gender</th>\n",
       "      <th>age</th>\n",
       "      <th>exercise</th>\n",
       "      <th>hours</th>\n",
       "      <th>grade</th>\n",
       "    </tr>\n",
       "  </thead>\n",
       "  <tbody>\n",
       "    <tr>\n",
       "      <td>0</td>\n",
       "      <td>female</td>\n",
       "      <td>17</td>\n",
       "      <td>3</td>\n",
       "      <td>10</td>\n",
       "      <td>82.4</td>\n",
       "    </tr>\n",
       "    <tr>\n",
       "      <td>1</td>\n",
       "      <td>male</td>\n",
       "      <td>18</td>\n",
       "      <td>4</td>\n",
       "      <td>4</td>\n",
       "      <td>78.2</td>\n",
       "    </tr>\n",
       "    <tr>\n",
       "      <td>2</td>\n",
       "      <td>male</td>\n",
       "      <td>18</td>\n",
       "      <td>5</td>\n",
       "      <td>9</td>\n",
       "      <td>79.3</td>\n",
       "    </tr>\n",
       "    <tr>\n",
       "      <td>3</td>\n",
       "      <td>female</td>\n",
       "      <td>14</td>\n",
       "      <td>2</td>\n",
       "      <td>7</td>\n",
       "      <td>83.2</td>\n",
       "    </tr>\n",
       "    <tr>\n",
       "      <td>4</td>\n",
       "      <td>female</td>\n",
       "      <td>18</td>\n",
       "      <td>4</td>\n",
       "      <td>15</td>\n",
       "      <td>87.4</td>\n",
       "    </tr>\n",
       "    <tr>\n",
       "      <td>...</td>\n",
       "      <td>...</td>\n",
       "      <td>...</td>\n",
       "      <td>...</td>\n",
       "      <td>...</td>\n",
       "      <td>...</td>\n",
       "    </tr>\n",
       "    <tr>\n",
       "      <td>1995</td>\n",
       "      <td>male</td>\n",
       "      <td>19</td>\n",
       "      <td>1</td>\n",
       "      <td>8</td>\n",
       "      <td>80.1</td>\n",
       "    </tr>\n",
       "    <tr>\n",
       "      <td>1996</td>\n",
       "      <td>female</td>\n",
       "      <td>16</td>\n",
       "      <td>4</td>\n",
       "      <td>18</td>\n",
       "      <td>100.0</td>\n",
       "    </tr>\n",
       "    <tr>\n",
       "      <td>1997</td>\n",
       "      <td>female</td>\n",
       "      <td>18</td>\n",
       "      <td>3</td>\n",
       "      <td>14</td>\n",
       "      <td>84.9</td>\n",
       "    </tr>\n",
       "    <tr>\n",
       "      <td>1998</td>\n",
       "      <td>male</td>\n",
       "      <td>16</td>\n",
       "      <td>1</td>\n",
       "      <td>7</td>\n",
       "      <td>69.1</td>\n",
       "    </tr>\n",
       "    <tr>\n",
       "      <td>1999</td>\n",
       "      <td>male</td>\n",
       "      <td>19</td>\n",
       "      <td>4</td>\n",
       "      <td>10</td>\n",
       "      <td>79.6</td>\n",
       "    </tr>\n",
       "  </tbody>\n",
       "</table>\n",
       "<p>2000 rows × 5 columns</p>\n",
       "</div>"
      ],
      "text/plain": [
       "      gender  age  exercise  hours  grade\n",
       "0     female   17         3     10   82.4\n",
       "1       male   18         4      4   78.2\n",
       "2       male   18         5      9   79.3\n",
       "3     female   14         2      7   83.2\n",
       "4     female   18         4     15   87.4\n",
       "...      ...  ...       ...    ...    ...\n",
       "1995    male   19         1      8   80.1\n",
       "1996  female   16         4     18  100.0\n",
       "1997  female   18         3     14   84.9\n",
       "1998    male   16         1      7   69.1\n",
       "1999    male   19         4     10   79.6\n",
       "\n",
       "[2000 rows x 5 columns]"
      ]
     },
     "execution_count": 23,
     "metadata": {},
     "output_type": "execute_result"
    }
   ],
   "source": [
    "new_df\n"
   ]
  },
  {
   "cell_type": "code",
   "execution_count": 25,
   "metadata": {},
   "outputs": [
    {
     "data": {
      "text/html": [
       "<div>\n",
       "<style scoped>\n",
       "    .dataframe tbody tr th:only-of-type {\n",
       "        vertical-align: middle;\n",
       "    }\n",
       "\n",
       "    .dataframe tbody tr th {\n",
       "        vertical-align: top;\n",
       "    }\n",
       "\n",
       "    .dataframe thead th {\n",
       "        text-align: right;\n",
       "    }\n",
       "</style>\n",
       "<table border=\"1\" class=\"dataframe\">\n",
       "  <thead>\n",
       "    <tr style=\"text-align: right;\">\n",
       "      <th></th>\n",
       "      <th>gender</th>\n",
       "      <th>exercise</th>\n",
       "    </tr>\n",
       "  </thead>\n",
       "  <tbody>\n",
       "    <tr>\n",
       "      <td>0</td>\n",
       "      <td>female</td>\n",
       "      <td>3</td>\n",
       "    </tr>\n",
       "    <tr>\n",
       "      <td>1</td>\n",
       "      <td>male</td>\n",
       "      <td>4</td>\n",
       "    </tr>\n",
       "    <tr>\n",
       "      <td>2</td>\n",
       "      <td>male</td>\n",
       "      <td>5</td>\n",
       "    </tr>\n",
       "    <tr>\n",
       "      <td>3</td>\n",
       "      <td>female</td>\n",
       "      <td>2</td>\n",
       "    </tr>\n",
       "    <tr>\n",
       "      <td>4</td>\n",
       "      <td>female</td>\n",
       "      <td>4</td>\n",
       "    </tr>\n",
       "    <tr>\n",
       "      <td>...</td>\n",
       "      <td>...</td>\n",
       "      <td>...</td>\n",
       "    </tr>\n",
       "    <tr>\n",
       "      <td>1995</td>\n",
       "      <td>male</td>\n",
       "      <td>1</td>\n",
       "    </tr>\n",
       "    <tr>\n",
       "      <td>1996</td>\n",
       "      <td>female</td>\n",
       "      <td>4</td>\n",
       "    </tr>\n",
       "    <tr>\n",
       "      <td>1997</td>\n",
       "      <td>female</td>\n",
       "      <td>3</td>\n",
       "    </tr>\n",
       "    <tr>\n",
       "      <td>1998</td>\n",
       "      <td>male</td>\n",
       "      <td>1</td>\n",
       "    </tr>\n",
       "    <tr>\n",
       "      <td>1999</td>\n",
       "      <td>male</td>\n",
       "      <td>4</td>\n",
       "    </tr>\n",
       "  </tbody>\n",
       "</table>\n",
       "<p>2000 rows × 2 columns</p>\n",
       "</div>"
      ],
      "text/plain": [
       "      gender  exercise\n",
       "0     female         3\n",
       "1       male         4\n",
       "2       male         5\n",
       "3     female         2\n",
       "4     female         4\n",
       "...      ...       ...\n",
       "1995    male         1\n",
       "1996  female         4\n",
       "1997  female         3\n",
       "1998    male         1\n",
       "1999    male         4\n",
       "\n",
       "[2000 rows x 2 columns]"
      ]
     },
     "execution_count": 25,
     "metadata": {},
     "output_type": "execute_result"
    }
   ],
   "source": [
    "\n"
   ]
  },
  {
   "cell_type": "code",
   "execution_count": 26,
   "metadata": {},
   "outputs": [
    {
     "data": {
      "text/html": [
       "<div>\n",
       "<style scoped>\n",
       "    .dataframe tbody tr th:only-of-type {\n",
       "        vertical-align: middle;\n",
       "    }\n",
       "\n",
       "    .dataframe tbody tr th {\n",
       "        vertical-align: top;\n",
       "    }\n",
       "\n",
       "    .dataframe thead th {\n",
       "        text-align: right;\n",
       "    }\n",
       "</style>\n",
       "<table border=\"1\" class=\"dataframe\">\n",
       "  <thead>\n",
       "    <tr style=\"text-align: right;\">\n",
       "      <th></th>\n",
       "      <th>gender</th>\n",
       "      <th>exercise</th>\n",
       "    </tr>\n",
       "  </thead>\n",
       "  <tbody>\n",
       "    <tr>\n",
       "      <td>0</td>\n",
       "      <td>female</td>\n",
       "      <td>3</td>\n",
       "    </tr>\n",
       "    <tr>\n",
       "      <td>1</td>\n",
       "      <td>male</td>\n",
       "      <td>4</td>\n",
       "    </tr>\n",
       "    <tr>\n",
       "      <td>2</td>\n",
       "      <td>male</td>\n",
       "      <td>5</td>\n",
       "    </tr>\n",
       "    <tr>\n",
       "      <td>3</td>\n",
       "      <td>female</td>\n",
       "      <td>2</td>\n",
       "    </tr>\n",
       "    <tr>\n",
       "      <td>4</td>\n",
       "      <td>female</td>\n",
       "      <td>4</td>\n",
       "    </tr>\n",
       "  </tbody>\n",
       "</table>\n",
       "</div>"
      ],
      "text/plain": [
       "   gender  exercise\n",
       "0  female         3\n",
       "1    male         4\n",
       "2    male         5\n",
       "3  female         2\n",
       "4  female         4"
      ]
     },
     "execution_count": 26,
     "metadata": {},
     "output_type": "execute_result"
    }
   ],
   "source": [
    "#descriptive analysis\n",
    "new_df.head()\n"
   ]
  },
  {
   "cell_type": "code",
   "execution_count": 27,
   "metadata": {},
   "outputs": [
    {
     "data": {
      "text/html": [
       "<div>\n",
       "<style scoped>\n",
       "    .dataframe tbody tr th:only-of-type {\n",
       "        vertical-align: middle;\n",
       "    }\n",
       "\n",
       "    .dataframe tbody tr th {\n",
       "        vertical-align: top;\n",
       "    }\n",
       "\n",
       "    .dataframe thead th {\n",
       "        text-align: right;\n",
       "    }\n",
       "</style>\n",
       "<table border=\"1\" class=\"dataframe\">\n",
       "  <thead>\n",
       "    <tr style=\"text-align: right;\">\n",
       "      <th></th>\n",
       "      <th>gender</th>\n",
       "      <th>exercise</th>\n",
       "    </tr>\n",
       "  </thead>\n",
       "  <tbody>\n",
       "    <tr>\n",
       "      <td>1995</td>\n",
       "      <td>male</td>\n",
       "      <td>1</td>\n",
       "    </tr>\n",
       "    <tr>\n",
       "      <td>1996</td>\n",
       "      <td>female</td>\n",
       "      <td>4</td>\n",
       "    </tr>\n",
       "    <tr>\n",
       "      <td>1997</td>\n",
       "      <td>female</td>\n",
       "      <td>3</td>\n",
       "    </tr>\n",
       "    <tr>\n",
       "      <td>1998</td>\n",
       "      <td>male</td>\n",
       "      <td>1</td>\n",
       "    </tr>\n",
       "    <tr>\n",
       "      <td>1999</td>\n",
       "      <td>male</td>\n",
       "      <td>4</td>\n",
       "    </tr>\n",
       "  </tbody>\n",
       "</table>\n",
       "</div>"
      ],
      "text/plain": [
       "      gender  exercise\n",
       "1995    male         1\n",
       "1996  female         4\n",
       "1997  female         3\n",
       "1998    male         1\n",
       "1999    male         4"
      ]
     },
     "execution_count": 27,
     "metadata": {},
     "output_type": "execute_result"
    }
   ],
   "source": [
    "new_df.tail()"
   ]
  },
  {
   "cell_type": "code",
   "execution_count": 34,
   "metadata": {},
   "outputs": [
    {
     "name": "stdout",
     "output_type": "stream",
     "text": [
      "               age     exercise        hours        grade\n",
      "count  2000.000000  2000.000000  2000.000000  2000.000000\n",
      "mean     16.578500     3.000500    10.988500    82.556050\n",
      "std       1.696254     1.423205     4.063942     9.747593\n",
      "min      14.000000     0.000000     0.000000    32.000000\n",
      "25%      15.000000     2.000000     8.000000    75.575000\n",
      "50%      17.000000     3.000000    11.000000    82.700000\n",
      "75%      18.000000     4.000000    14.000000    89.700000\n",
      "max      19.000000     5.000000    20.000000   100.000000\n",
      "<bound method NDFrame.describe of       gender  age  exercise  hours  grade\n",
      "0     female   17         3     10   82.4\n",
      "1       male   18         4      4   78.2\n",
      "2       male   18         5      9   79.3\n",
      "3     female   14         2      7   83.2\n",
      "4     female   18         4     15   87.4\n",
      "...      ...  ...       ...    ...    ...\n",
      "1995    male   19         1      8   80.1\n",
      "1996  female   16         4     18  100.0\n",
      "1997  female   18         3     14   84.9\n",
      "1998    male   16         1      7   69.1\n",
      "1999    male   19         4     10   79.6\n",
      "\n",
      "[2000 rows x 5 columns]>\n"
     ]
    }
   ],
   "source": [
    "print(new_df.describe())#gives summary of data\n",
    "print(new_df.describe)#describes all data"
   ]
  },
  {
   "cell_type": "code",
   "execution_count": 32,
   "metadata": {},
   "outputs": [
    {
     "data": {
      "text/plain": [
       "(2000, 5)"
      ]
     },
     "execution_count": 32,
     "metadata": {},
     "output_type": "execute_result"
    }
   ],
   "source": [
    "new_df.shape"
   ]
  },
  {
   "cell_type": "code",
   "execution_count": null,
   "metadata": {},
   "outputs": [],
   "source": [
    "new_df=df.iloc[:,[2,4,6]]\n",
    "new_df"
   ]
  },
  {
   "cell_type": "code",
   "execution_count": 39,
   "metadata": {},
   "outputs": [],
   "source": [
    "new_df['gender']=new_df.gender.map({'male':1,'female':2})"
   ]
  },
  {
   "cell_type": "code",
   "execution_count": 43,
   "metadata": {},
   "outputs": [
    {
     "data": {
      "text/html": [
       "<div>\n",
       "<style scoped>\n",
       "    .dataframe tbody tr th:only-of-type {\n",
       "        vertical-align: middle;\n",
       "    }\n",
       "\n",
       "    .dataframe tbody tr th {\n",
       "        vertical-align: top;\n",
       "    }\n",
       "\n",
       "    .dataframe thead th {\n",
       "        text-align: right;\n",
       "    }\n",
       "</style>\n",
       "<table border=\"1\" class=\"dataframe\">\n",
       "  <thead>\n",
       "    <tr style=\"text-align: right;\">\n",
       "      <th></th>\n",
       "      <th>age</th>\n",
       "      <th>exercise</th>\n",
       "      <th>hours</th>\n",
       "      <th>grade</th>\n",
       "      <th>gender_female</th>\n",
       "      <th>gender_male</th>\n",
       "    </tr>\n",
       "  </thead>\n",
       "  <tbody>\n",
       "    <tr>\n",
       "      <td>0</td>\n",
       "      <td>17</td>\n",
       "      <td>3</td>\n",
       "      <td>10</td>\n",
       "      <td>82.4</td>\n",
       "      <td>1</td>\n",
       "      <td>0</td>\n",
       "    </tr>\n",
       "    <tr>\n",
       "      <td>1</td>\n",
       "      <td>18</td>\n",
       "      <td>4</td>\n",
       "      <td>4</td>\n",
       "      <td>78.2</td>\n",
       "      <td>0</td>\n",
       "      <td>1</td>\n",
       "    </tr>\n",
       "    <tr>\n",
       "      <td>2</td>\n",
       "      <td>18</td>\n",
       "      <td>5</td>\n",
       "      <td>9</td>\n",
       "      <td>79.3</td>\n",
       "      <td>0</td>\n",
       "      <td>1</td>\n",
       "    </tr>\n",
       "    <tr>\n",
       "      <td>3</td>\n",
       "      <td>14</td>\n",
       "      <td>2</td>\n",
       "      <td>7</td>\n",
       "      <td>83.2</td>\n",
       "      <td>1</td>\n",
       "      <td>0</td>\n",
       "    </tr>\n",
       "    <tr>\n",
       "      <td>4</td>\n",
       "      <td>18</td>\n",
       "      <td>4</td>\n",
       "      <td>15</td>\n",
       "      <td>87.4</td>\n",
       "      <td>1</td>\n",
       "      <td>0</td>\n",
       "    </tr>\n",
       "    <tr>\n",
       "      <td>...</td>\n",
       "      <td>...</td>\n",
       "      <td>...</td>\n",
       "      <td>...</td>\n",
       "      <td>...</td>\n",
       "      <td>...</td>\n",
       "      <td>...</td>\n",
       "    </tr>\n",
       "    <tr>\n",
       "      <td>1995</td>\n",
       "      <td>19</td>\n",
       "      <td>1</td>\n",
       "      <td>8</td>\n",
       "      <td>80.1</td>\n",
       "      <td>0</td>\n",
       "      <td>1</td>\n",
       "    </tr>\n",
       "    <tr>\n",
       "      <td>1996</td>\n",
       "      <td>16</td>\n",
       "      <td>4</td>\n",
       "      <td>18</td>\n",
       "      <td>100.0</td>\n",
       "      <td>1</td>\n",
       "      <td>0</td>\n",
       "    </tr>\n",
       "    <tr>\n",
       "      <td>1997</td>\n",
       "      <td>18</td>\n",
       "      <td>3</td>\n",
       "      <td>14</td>\n",
       "      <td>84.9</td>\n",
       "      <td>1</td>\n",
       "      <td>0</td>\n",
       "    </tr>\n",
       "    <tr>\n",
       "      <td>1998</td>\n",
       "      <td>16</td>\n",
       "      <td>1</td>\n",
       "      <td>7</td>\n",
       "      <td>69.1</td>\n",
       "      <td>0</td>\n",
       "      <td>1</td>\n",
       "    </tr>\n",
       "    <tr>\n",
       "      <td>1999</td>\n",
       "      <td>19</td>\n",
       "      <td>4</td>\n",
       "      <td>10</td>\n",
       "      <td>79.6</td>\n",
       "      <td>0</td>\n",
       "      <td>1</td>\n",
       "    </tr>\n",
       "  </tbody>\n",
       "</table>\n",
       "<p>2000 rows × 6 columns</p>\n",
       "</div>"
      ],
      "text/plain": [
       "      age  exercise  hours  grade  gender_female  gender_male\n",
       "0      17         3     10   82.4              1            0\n",
       "1      18         4      4   78.2              0            1\n",
       "2      18         5      9   79.3              0            1\n",
       "3      14         2      7   83.2              1            0\n",
       "4      18         4     15   87.4              1            0\n",
       "...   ...       ...    ...    ...            ...          ...\n",
       "1995   19         1      8   80.1              0            1\n",
       "1996   16         4     18  100.0              1            0\n",
       "1997   18         3     14   84.9              1            0\n",
       "1998   16         1      7   69.1              0            1\n",
       "1999   19         4     10   79.6              0            1\n",
       "\n",
       "[2000 rows x 6 columns]"
      ]
     },
     "execution_count": 43,
     "metadata": {},
     "output_type": "execute_result"
    }
   ],
   "source": [
    "new_df"
   ]
  },
  {
   "cell_type": "code",
   "execution_count": 13,
   "metadata": {},
   "outputs": [],
   "source": [
    "#creating dummy variable\n",
    "#to convert categorical to numerical\n",
    "new_df=pd.get_dummies(new_df,columns=['gender'])"
   ]
  },
  {
   "cell_type": "code",
   "execution_count": 14,
   "metadata": {},
   "outputs": [
    {
     "data": {
      "text/html": [
       "<div>\n",
       "<style scoped>\n",
       "    .dataframe tbody tr th:only-of-type {\n",
       "        vertical-align: middle;\n",
       "    }\n",
       "\n",
       "    .dataframe tbody tr th {\n",
       "        vertical-align: top;\n",
       "    }\n",
       "\n",
       "    .dataframe thead th {\n",
       "        text-align: right;\n",
       "    }\n",
       "</style>\n",
       "<table border=\"1\" class=\"dataframe\">\n",
       "  <thead>\n",
       "    <tr style=\"text-align: right;\">\n",
       "      <th></th>\n",
       "      <th>age</th>\n",
       "      <th>exercise</th>\n",
       "      <th>hours</th>\n",
       "      <th>grade</th>\n",
       "      <th>gender_female</th>\n",
       "      <th>gender_male</th>\n",
       "    </tr>\n",
       "  </thead>\n",
       "  <tbody>\n",
       "    <tr>\n",
       "      <td>age</td>\n",
       "      <td>1.000000</td>\n",
       "      <td>-0.003643</td>\n",
       "      <td>-0.017467</td>\n",
       "      <td>-0.007580</td>\n",
       "      <td>-0.006192</td>\n",
       "      <td>0.006192</td>\n",
       "    </tr>\n",
       "    <tr>\n",
       "      <td>exercise</td>\n",
       "      <td>-0.003643</td>\n",
       "      <td>1.000000</td>\n",
       "      <td>0.021105</td>\n",
       "      <td>0.161286</td>\n",
       "      <td>0.032681</td>\n",
       "      <td>-0.032681</td>\n",
       "    </tr>\n",
       "    <tr>\n",
       "      <td>hours</td>\n",
       "      <td>-0.017467</td>\n",
       "      <td>0.021105</td>\n",
       "      <td>1.000000</td>\n",
       "      <td>0.801955</td>\n",
       "      <td>-0.013906</td>\n",
       "      <td>0.013906</td>\n",
       "    </tr>\n",
       "    <tr>\n",
       "      <td>grade</td>\n",
       "      <td>-0.007580</td>\n",
       "      <td>0.161286</td>\n",
       "      <td>0.801955</td>\n",
       "      <td>1.000000</td>\n",
       "      <td>0.016547</td>\n",
       "      <td>-0.016547</td>\n",
       "    </tr>\n",
       "    <tr>\n",
       "      <td>gender_female</td>\n",
       "      <td>-0.006192</td>\n",
       "      <td>0.032681</td>\n",
       "      <td>-0.013906</td>\n",
       "      <td>0.016547</td>\n",
       "      <td>1.000000</td>\n",
       "      <td>-1.000000</td>\n",
       "    </tr>\n",
       "    <tr>\n",
       "      <td>gender_male</td>\n",
       "      <td>0.006192</td>\n",
       "      <td>-0.032681</td>\n",
       "      <td>0.013906</td>\n",
       "      <td>-0.016547</td>\n",
       "      <td>-1.000000</td>\n",
       "      <td>1.000000</td>\n",
       "    </tr>\n",
       "  </tbody>\n",
       "</table>\n",
       "</div>"
      ],
      "text/plain": [
       "                    age  exercise     hours     grade  gender_female  \\\n",
       "age            1.000000 -0.003643 -0.017467 -0.007580      -0.006192   \n",
       "exercise      -0.003643  1.000000  0.021105  0.161286       0.032681   \n",
       "hours         -0.017467  0.021105  1.000000  0.801955      -0.013906   \n",
       "grade         -0.007580  0.161286  0.801955  1.000000       0.016547   \n",
       "gender_female -0.006192  0.032681 -0.013906  0.016547       1.000000   \n",
       "gender_male    0.006192 -0.032681  0.013906 -0.016547      -1.000000   \n",
       "\n",
       "               gender_male  \n",
       "age               0.006192  \n",
       "exercise         -0.032681  \n",
       "hours             0.013906  \n",
       "grade            -0.016547  \n",
       "gender_female    -1.000000  \n",
       "gender_male       1.000000  "
      ]
     },
     "execution_count": 14,
     "metadata": {},
     "output_type": "execute_result"
    }
   ],
   "source": [
    "#function for correlation\n",
    "new_df.corr()"
   ]
  },
  {
   "cell_type": "code",
   "execution_count": 15,
   "metadata": {},
   "outputs": [],
   "source": [
    "Y=new_df['grade']\n",
    "X=new_df.iloc[:,0:4]"
   ]
  },
  {
   "cell_type": "code",
   "execution_count": 16,
   "metadata": {},
   "outputs": [
    {
     "data": {
      "text/html": [
       "<div>\n",
       "<style scoped>\n",
       "    .dataframe tbody tr th:only-of-type {\n",
       "        vertical-align: middle;\n",
       "    }\n",
       "\n",
       "    .dataframe tbody tr th {\n",
       "        vertical-align: top;\n",
       "    }\n",
       "\n",
       "    .dataframe thead th {\n",
       "        text-align: right;\n",
       "    }\n",
       "</style>\n",
       "<table border=\"1\" class=\"dataframe\">\n",
       "  <thead>\n",
       "    <tr style=\"text-align: right;\">\n",
       "      <th></th>\n",
       "      <th>age</th>\n",
       "      <th>exercise</th>\n",
       "      <th>hours</th>\n",
       "      <th>grade</th>\n",
       "      <th>gender_female</th>\n",
       "      <th>gender_male</th>\n",
       "    </tr>\n",
       "  </thead>\n",
       "  <tbody>\n",
       "    <tr>\n",
       "      <td>0</td>\n",
       "      <td>17</td>\n",
       "      <td>3</td>\n",
       "      <td>10</td>\n",
       "      <td>82.4</td>\n",
       "      <td>1</td>\n",
       "      <td>0</td>\n",
       "    </tr>\n",
       "    <tr>\n",
       "      <td>1</td>\n",
       "      <td>18</td>\n",
       "      <td>4</td>\n",
       "      <td>4</td>\n",
       "      <td>78.2</td>\n",
       "      <td>0</td>\n",
       "      <td>1</td>\n",
       "    </tr>\n",
       "    <tr>\n",
       "      <td>2</td>\n",
       "      <td>18</td>\n",
       "      <td>5</td>\n",
       "      <td>9</td>\n",
       "      <td>79.3</td>\n",
       "      <td>0</td>\n",
       "      <td>1</td>\n",
       "    </tr>\n",
       "    <tr>\n",
       "      <td>3</td>\n",
       "      <td>14</td>\n",
       "      <td>2</td>\n",
       "      <td>7</td>\n",
       "      <td>83.2</td>\n",
       "      <td>1</td>\n",
       "      <td>0</td>\n",
       "    </tr>\n",
       "    <tr>\n",
       "      <td>4</td>\n",
       "      <td>18</td>\n",
       "      <td>4</td>\n",
       "      <td>15</td>\n",
       "      <td>87.4</td>\n",
       "      <td>1</td>\n",
       "      <td>0</td>\n",
       "    </tr>\n",
       "  </tbody>\n",
       "</table>\n",
       "</div>"
      ],
      "text/plain": [
       "   age  exercise  hours  grade  gender_female  gender_male\n",
       "0   17         3     10   82.4              1            0\n",
       "1   18         4      4   78.2              0            1\n",
       "2   18         5      9   79.3              0            1\n",
       "3   14         2      7   83.2              1            0\n",
       "4   18         4     15   87.4              1            0"
      ]
     },
     "execution_count": 16,
     "metadata": {},
     "output_type": "execute_result"
    }
   ],
   "source": [
    "new_df.head()\n"
   ]
  },
  {
   "cell_type": "code",
   "execution_count": 17,
   "metadata": {},
   "outputs": [
    {
     "data": {
      "text/plain": [
       "0        82.4\n",
       "1        78.2\n",
       "2        79.3\n",
       "3        83.2\n",
       "4        87.4\n",
       "        ...  \n",
       "1995     80.1\n",
       "1996    100.0\n",
       "1997     84.9\n",
       "1998     69.1\n",
       "1999     79.6\n",
       "Name: grade, Length: 2000, dtype: float64"
      ]
     },
     "execution_count": 17,
     "metadata": {},
     "output_type": "execute_result"
    }
   ],
   "source": [
    "Y"
   ]
  },
  {
   "cell_type": "code",
   "execution_count": 18,
   "metadata": {},
   "outputs": [
    {
     "data": {
      "text/html": [
       "<div>\n",
       "<style scoped>\n",
       "    .dataframe tbody tr th:only-of-type {\n",
       "        vertical-align: middle;\n",
       "    }\n",
       "\n",
       "    .dataframe tbody tr th {\n",
       "        vertical-align: top;\n",
       "    }\n",
       "\n",
       "    .dataframe thead th {\n",
       "        text-align: right;\n",
       "    }\n",
       "</style>\n",
       "<table border=\"1\" class=\"dataframe\">\n",
       "  <thead>\n",
       "    <tr style=\"text-align: right;\">\n",
       "      <th></th>\n",
       "      <th>age</th>\n",
       "      <th>exercise</th>\n",
       "      <th>hours</th>\n",
       "      <th>grade</th>\n",
       "    </tr>\n",
       "  </thead>\n",
       "  <tbody>\n",
       "    <tr>\n",
       "      <td>0</td>\n",
       "      <td>17</td>\n",
       "      <td>3</td>\n",
       "      <td>10</td>\n",
       "      <td>82.4</td>\n",
       "    </tr>\n",
       "    <tr>\n",
       "      <td>1</td>\n",
       "      <td>18</td>\n",
       "      <td>4</td>\n",
       "      <td>4</td>\n",
       "      <td>78.2</td>\n",
       "    </tr>\n",
       "    <tr>\n",
       "      <td>2</td>\n",
       "      <td>18</td>\n",
       "      <td>5</td>\n",
       "      <td>9</td>\n",
       "      <td>79.3</td>\n",
       "    </tr>\n",
       "    <tr>\n",
       "      <td>3</td>\n",
       "      <td>14</td>\n",
       "      <td>2</td>\n",
       "      <td>7</td>\n",
       "      <td>83.2</td>\n",
       "    </tr>\n",
       "    <tr>\n",
       "      <td>4</td>\n",
       "      <td>18</td>\n",
       "      <td>4</td>\n",
       "      <td>15</td>\n",
       "      <td>87.4</td>\n",
       "    </tr>\n",
       "    <tr>\n",
       "      <td>...</td>\n",
       "      <td>...</td>\n",
       "      <td>...</td>\n",
       "      <td>...</td>\n",
       "      <td>...</td>\n",
       "    </tr>\n",
       "    <tr>\n",
       "      <td>1995</td>\n",
       "      <td>19</td>\n",
       "      <td>1</td>\n",
       "      <td>8</td>\n",
       "      <td>80.1</td>\n",
       "    </tr>\n",
       "    <tr>\n",
       "      <td>1996</td>\n",
       "      <td>16</td>\n",
       "      <td>4</td>\n",
       "      <td>18</td>\n",
       "      <td>100.0</td>\n",
       "    </tr>\n",
       "    <tr>\n",
       "      <td>1997</td>\n",
       "      <td>18</td>\n",
       "      <td>3</td>\n",
       "      <td>14</td>\n",
       "      <td>84.9</td>\n",
       "    </tr>\n",
       "    <tr>\n",
       "      <td>1998</td>\n",
       "      <td>16</td>\n",
       "      <td>1</td>\n",
       "      <td>7</td>\n",
       "      <td>69.1</td>\n",
       "    </tr>\n",
       "    <tr>\n",
       "      <td>1999</td>\n",
       "      <td>19</td>\n",
       "      <td>4</td>\n",
       "      <td>10</td>\n",
       "      <td>79.6</td>\n",
       "    </tr>\n",
       "  </tbody>\n",
       "</table>\n",
       "<p>2000 rows × 4 columns</p>\n",
       "</div>"
      ],
      "text/plain": [
       "      age  exercise  hours  grade\n",
       "0      17         3     10   82.4\n",
       "1      18         4      4   78.2\n",
       "2      18         5      9   79.3\n",
       "3      14         2      7   83.2\n",
       "4      18         4     15   87.4\n",
       "...   ...       ...    ...    ...\n",
       "1995   19         1      8   80.1\n",
       "1996   16         4     18  100.0\n",
       "1997   18         3     14   84.9\n",
       "1998   16         1      7   69.1\n",
       "1999   19         4     10   79.6\n",
       "\n",
       "[2000 rows x 4 columns]"
      ]
     },
     "execution_count": 18,
     "metadata": {},
     "output_type": "execute_result"
    }
   ],
   "source": [
    "X"
   ]
  },
  {
   "cell_type": "code",
   "execution_count": 19,
   "metadata": {},
   "outputs": [
    {
     "data": {
      "text/plain": [
       "(array([316.,   0., 300.,   0., 334.,   0., 356.,   0., 349., 345.]),\n",
       " array([14. , 14.5, 15. , 15.5, 16. , 16.5, 17. , 17.5, 18. , 18.5, 19. ]),\n",
       " <a list of 10 Patch objects>)"
      ]
     },
     "execution_count": 19,
     "metadata": {},
     "output_type": "execute_result"
    },
    {
     "data": {
      "image/png": "[encoded data removed]",
      "text/plain": [
       "<Figure size 432x288 with 1 Axes>"
      ]
     },
     "metadata": {
      "needs_background": "light"
     },
     "output_type": "display_data"
    }
   ],
   "source": [
    "#plot graph\n",
    "plt.hist(new_df['age'])"
   ]
  },
  {
   "cell_type": "code",
   "execution_count": 20,
   "metadata": {},
   "outputs": [
    {
     "data": {
      "text/plain": [
       "<seaborn.axisgrid.PairGrid at 0x18849edbd48>"
      ]
     },
     "execution_count": 20,
     "metadata": {},
     "output_type": "execute_result"
    },
    {
     "data": {
      "image/png": "[encoded data removed]",
      "text/plain": [
       "<Figure size 1080x1080 with 42 Axes>"
      ]
     },
     "metadata": {
      "needs_background": "light"
     },
     "output_type": "display_data"
    }
   ],
   "source": [
    "import seaborn as sb\n",
    "sb.pairplot(new_df)"
   ]
  },
  {
   "cell_type": "code",
   "execution_count": 21,
   "metadata": {},
   "outputs": [
    {
     "data": {
      "text/plain": [
       "(array([  5.,  55., 141., 216., 299., 384., 331., 278., 174., 117.]),\n",
       " array([ 0.,  2.,  4.,  6.,  8., 10., 12., 14., 16., 18., 20.]),\n",
       " <a list of 10 Patch objects>)"
      ]
     },
     "execution_count": 21,
     "metadata": {},
     "output_type": "execute_result"
    },
    {
     "data": {
      "image/png": "[encoded data removed]",
      "text/plain": [
       "<Figure size 432x288 with 1 Axes>"
      ]
     },
     "metadata": {
      "needs_background": "light"
     },
     "output_type": "display_data"
    }
   ],
   "source": [
    "plt.hist(new_df['hours'])"
   ]
  },
  {
   "cell_type": "code",
   "execution_count": 23,
   "metadata": {},
   "outputs": [
    {
     "data": {
      "text/plain": [
       "<matplotlib.collections.PathCollection at 0x1884b0b4c48>"
      ]
     },
     "execution_count": 23,
     "metadata": {},
     "output_type": "execute_result"
    },
    {
     "data": {
      "image/png": "[encoded data removed]",
      "text/plain": [
       "<Figure size 432x288 with 1 Axes>"
      ]
     },
     "metadata": {
      "needs_background": "light"
     },
     "output_type": "display_data"
    }
   ],
   "source": [
    "plt.scatter(new_df['hours'],new_df['grade'])"
   ]
  },
  {
   "cell_type": "code",
   "execution_count": 24,
   "metadata": {
    "scrolled": true
   },
   "outputs": [
    {
     "data": {
      "text/plain": [
       "<seaborn.axisgrid.PairGrid at 0x1884b94abc8>"
      ]
     },
     "execution_count": 24,
     "metadata": {},
     "output_type": "execute_result"
    },
    {
     "data": {
      "image/png": "[encoded data removed]",
      "text/plain": [
       "<Figure size 1080x1080 with 42 Axes>"
      ]
     },
     "metadata": {
      "needs_background": "light"
     },
     "output_type": "display_data"
    }
   ],
   "source": [
    "sb.pairplot(new_df)"
   ]
  },
  {
   "cell_type": "code",
   "execution_count": 26,
   "metadata": {},
   "outputs": [],
   "source": [
    "#splitting the data\n",
    "from sklearn.model_selection import train_test_split"
   ]
  },
  {
   "cell_type": "code",
   "execution_count": 81,
   "metadata": {},
   "outputs": [],
   "source": [
    "#random state=0 tells split row wiuse\n",
    "X_train,X_test,Y_train,Y_test=train_test_split(X,Y,test_size=0.3,random_state=0)"
   ]
  },
  {
   "cell_type": "code",
   "execution_count": 82,
   "metadata": {},
   "outputs": [
    {
     "name": "stdout",
     "output_type": "stream",
     "text": [
      "      age  exercise  hours  grade\n",
      "1719   18         2     20  100.0\n",
      "1702   19         2     11   89.3\n",
      "1287   17         4     16   97.7\n",
      "482    15         2     17   86.5\n",
      "768    18         3      8   70.0\n",
      "...   ...       ...    ...    ...\n",
      "835    19         0     14   94.5\n",
      "1216   16         4      8   72.8\n",
      "1653   14         2      6   66.0\n",
      "559    18         3     10   76.3\n",
      "684    16         1      6   67.5\n",
      "\n",
      "[1400 rows x 4 columns]\n",
      "1719    100.0\n",
      "1702     89.3\n",
      "1287     97.7\n",
      "482      86.5\n",
      "768      70.0\n",
      "        ...  \n",
      "835      94.5\n",
      "1216     72.8\n",
      "1653     66.0\n",
      "559      76.3\n",
      "684      67.5\n",
      "Name: grade, Length: 1400, dtype: float64\n",
      "      age  exercise  hours  grade\n",
      "405    16         5     11   81.3\n",
      "1190   15         3     13   77.3\n",
      "1132   16         4     17   92.2\n",
      "731    14         3     15   83.3\n",
      "1754   19         1     14   91.5\n",
      "...   ...       ...    ...    ...\n",
      "841    15         3     15   90.6\n",
      "108    17         5     12   95.6\n",
      "665    17         3     13   79.0\n",
      "1214   17         3      7   69.9\n",
      "2      18         5      9   79.3\n",
      "\n",
      "[600 rows x 4 columns]\n",
      "405     81.3\n",
      "1190    77.3\n",
      "1132    92.2\n",
      "731     83.3\n",
      "1754    91.5\n",
      "        ... \n",
      "841     90.6\n",
      "108     95.6\n",
      "665     79.0\n",
      "1214    69.9\n",
      "2       79.3\n",
      "Name: grade, Length: 600, dtype: float64\n"
     ]
    }
   ],
   "source": [
    "print(X_train)\n",
    "print(Y_train)\n",
    "print(X_test)\n",
    "print(Y_test)"
   ]
  },
  {
   "cell_type": "code",
   "execution_count": 83,
   "metadata": {},
   "outputs": [],
   "source": [
    "#building regression model\n",
    "from sklearn.linear_model import LinearRegression"
   ]
  },
  {
   "cell_type": "code",
   "execution_count": 84,
   "metadata": {},
   "outputs": [],
   "source": [
    "regressor=LinearRegression()"
   ]
  },
  {
   "cell_type": "code",
   "execution_count": 85,
   "metadata": {},
   "outputs": [
    {
     "data": {
      "text/plain": [
       "LinearRegression(copy_X=True, fit_intercept=True, n_jobs=None, normalize=False)"
      ]
     },
     "execution_count": 85,
     "metadata": {},
     "output_type": "execute_result"
    }
   ],
   "source": [
    "regressor.fit(X_train,Y_train)"
   ]
  },
  {
   "cell_type": "code",
   "execution_count": 86,
   "metadata": {},
   "outputs": [
    {
     "data": {
      "text/plain": [
       "1.0"
      ]
     },
     "execution_count": 86,
     "metadata": {},
     "output_type": "execute_result"
    }
   ],
   "source": [
    "regressor.score(X_train,Y_train) #Accuracy of model"
   ]
  },
  {
   "cell_type": "code",
   "execution_count": 87,
   "metadata": {},
   "outputs": [
    {
     "name": "stdout",
     "output_type": "stream",
     "text": [
      "Coefficients : \n",
      " [-3.53422752e-16 -1.88737914e-15 -4.99600361e-16  1.00000000e+00]\n"
     ]
    }
   ],
   "source": [
    "print('Coefficients : \\n',regressor.coef_)"
   ]
  },
  {
   "cell_type": "code",
   "execution_count": 88,
   "metadata": {},
   "outputs": [
    {
     "data": {
      "text/plain": [
       "Index(['age', 'exercise', 'hours', 'grade', 'gender_female', 'gender_male'], dtype='object')"
      ]
     },
     "execution_count": 88,
     "metadata": {},
     "output_type": "execute_result"
    }
   ],
   "source": [
    "new_df.columns"
   ]
  },
  {
   "cell_type": "markdown",
   "metadata": {},
   "source": [
    "\n",
    "grade=-1.81e-16*age-2.99e-15*exercise-6.66e-16*hours+1*gender_female"
   ]
  },
  {
   "cell_type": "code",
   "execution_count": 89,
   "metadata": {},
   "outputs": [],
   "source": [
    "#prediction for new data set\n",
    "y_pred=regressor.predict(X_test)"
   ]
  },
  {
   "cell_type": "code",
   "execution_count": 90,
   "metadata": {},
   "outputs": [
    {
     "data": {
      "text/plain": [
       "array([ 81.3,  77.3,  92.2,  83.3,  91.5,  91.3,  95.5,  69.5,  93.9,\n",
       "        84.3,  79.4,  66. , 100. ,  99.6,  86.7,  80.9,  76.5,  72.8,\n",
       "        92.9,  78. ,  86.4,  73. ,  81.6,  76. ,  86.6,  93. ,  67.4,\n",
       "        81.3,  71. ,  70.1,  82.1,  82.1,  92.5,  88.9,  83.3,  94.7,\n",
       "        75.2,  81.1,  75.3,  89.9,  83.5,  73.3,  75.7, 100. ,  97.1,\n",
       "        93.7,  83.4,  84. ,  86.1,  65.9,  70.8,  89.1,  83.2,  91.4,\n",
       "        80.7,  75.7,  84.4,  79.1,  79.2,  87.8,  77.4,  72. ,  75.2,\n",
       "       100. ,  74.9,  76.3,  85.4,  76.1,  82.6,  99.5,  76.5,  68.2,\n",
       "       100. ,  93.1,  78.8,  83. ,  66.8,  90.3,  83.9,  86.1,  82.2,\n",
       "        88.4,  70.5,  79.8,  79.2,  83.6,  76.9,  84.4,  80.5, 100. ,\n",
       "        89.4,  89.6,  71.6,  88.7,  81.9,  79.6,  71.9,  71.3,  82.5,\n",
       "        84.3, 100. ,  81. ,  87. ,  87.5,  98.1,  93.1,  72.4,  92.1,\n",
       "        80.2,  93.3,  77.8,  72. ,  81.3,  86. ,  87.9,  68.6, 100. ,\n",
       "       100. ,  76.3,  89.7,  69.2,  80.2,  85.2,  82.3,  87.9,  70.4,\n",
       "        92. ,  88.4,  93.1,  79.5,  94.2,  90.2,  80.8,  72.7,  92.4,\n",
       "        85. ,  72.7,  75.9,  76.4, 100. ,  87.3,  84.1,  72.2,  67.9,\n",
       "        90.4,  95.5,  81.4,  65.3,  97.3,  92.5,  88.1,  86.8,  92.9,\n",
       "        69.5,  91.9,  88.9,  71.9,  93. ,  84. ,  62.2,  87.2,  82.8,\n",
       "        96.5,  97.1,  84.9,  72.3,  76.4,  77.1,  72.1,  74. ,  87.5,\n",
       "        74.8,  84.2,  99.1,  88.4, 100. ,  80.5,  69.9,  88. ,  90.3,\n",
       "       100. ,  76.8,  82.5,  88.5,  97.9,  82.7,  73.4,  91.1,  76.1,\n",
       "       100. , 100. ,  71.4,  81.8,  82.8,  94.9,  78.4, 100. ,  88.4,\n",
       "        71.4,  90. ,  80.3,  85.6,  65.3,  89.2,  84.2,  85.3,  82.3,\n",
       "        92.8,  94.2,  77.7,  69.8,  74. ,  90.1,  76. ,  90.5,  88.1,\n",
       "        95.5,  77.9,  85.9,  68.1,  72.3,  84.3,  77.9,  73.8,  86.8,\n",
       "        84. ,  98.7,  89.2, 100. , 100. ,  90.4,  71.9,  76.2,  74.4,\n",
       "        79.1,  90.8,  80.8,  71.8,  94.6, 100. ,  71. ,  83.8,  77.7,\n",
       "        83.7, 100. ,  74.4,  81.6,  82.3,  71.2,  82.5,  64.9,  72.8,\n",
       "        76.2,  71.1,  85.1,  61.4,  81. ,  79.5,  93.9,  69.3,  92. ,\n",
       "        87.6,  77.3,  80.3,  82.8,  94.8,  89.2,  91.4,  78.8,  83.2,\n",
       "        66.2,  90.8, 100. ,  65.1,  87.1,  89.6,  75. ,  85.2,  78.1,\n",
       "        67.6,  86.4,  83.5,  74.2,  71.8,  78.1,  87.4,  72.5,  74. ,\n",
       "        82.5,  83.5,  97.1,  85.2,  86. ,  79.6,  69.9,  87.5,  78.4,\n",
       "        88.1,  77.4,  84.9,  85.8, 100. ,  75.3,  91.4,  91.8,  87.5,\n",
       "        62. ,  87.5,  98.1,  72.5,  75.4,  80.2,  77.4,  84.1,  80.4,\n",
       "        81.8,  74.3,  84.2,  94.7,  92. ,  85.2,  75.4,  88.7,  72.6,\n",
       "        66.1,  80. ,  89.7,  89.7,  64.2,  93. ,  78.8,  73.2,  68.9,\n",
       "        75.3,  74.8,  71.2,  90.1,  80.1,  76.4,  75.1,  87.3,  75. ,\n",
       "        69.3,  74.7,  87.5,  92.4, 100. ,  84.2,  88.5,  69.3,  86.4,\n",
       "        82. ,  77. ,  98.2,  72.6,  79.5,  82.2,  80.3,  78.2,  72.7,\n",
       "        82.4,  96.6,  83.4,  80.6,  89. ,  68.4,  74.9,  89.8,  70.6,\n",
       "        70. ,  71.2,  82.6,  88.9,  81.6,  99.6,  87. ,  89. ,  94.3,\n",
       "        87.2,  88.4,  96.3,  88.8,  72.1,  89.7,  83. ,  78.7,  97.2,\n",
       "        88. ,  71.7,  87.5,  84.5,  81.3,  88.7,  73. ,  92.3,  81.6,\n",
       "        80. ,  68.9,  66.3,  98.6,  89.5,  93.3,  79.9,  84.2,  78.6,\n",
       "        68. ,  85.1,  81.7,  82.7,  83. ,  89.9,  82. , 100. ,  85. ,\n",
       "        66.1,  93.3,  60.6,  87.2,  95.8,  86. ,  96.4,  80.9,  76.1,\n",
       "        77.5,  80.5,  66.7,  90.8,  70.2,  74.3,  96.5,  74.1,  87.5,\n",
       "        61.6,  83.6,  76.2,  75.8,  68.1,  92.2,  75.3,  96.6, 100. ,\n",
       "        80.7,  89. ,  59.3,  87.4,  98. ,  81.5,  81.5, 100. ,  82.5,\n",
       "        88.9,  86.2, 100. ,  85.5,  79.9,  85.2,  77. ,  92.8,  76.1,\n",
       "        73.1,  95.2,  86.5,  95.4,  99.3,  78.4,  85. ,  95. ,  79.5,\n",
       "        74.3,  90.3,  79.7,  79.2,  67.9, 100. ,  91.8,  77.1, 100. ,\n",
       "        75. ,  85.6,  80.1,  78.5,  80.4,  95.3,  81.3,  92.5,  88. ,\n",
       "        99.1,  87.3,  72. ,  91.3,  82.7,  72.5,  74.5,  75. ,  74.8,\n",
       "        93.1,  84.2,  84.1,  78.4,  69.9,  86.5,  97.4,  72.8,  64.1,\n",
       "        77. ,  69.8,  77.6,  69.2,  82.5,  69.4,  87.4,  98.3,  77. ,\n",
       "        81.2,  77.7,  70.9,  97.9,  87.2,  75.8,  78.1,  74.2,  60.1,\n",
       "        68.2,  88.3,  91.1,  86.9,  63. ,  83.8,  65.1,  99.9,  87.1,\n",
       "        80.3,  79.2,  88.3,  73.4,  64. , 100. ,  83.7,  85.6,  76.5,\n",
       "        80.7,  81. ,  92.9,  77. ,  88. ,  80.2,  87.6,  83. ,  87.7,\n",
       "        83.7,  71.3,  85.5,  92.6,  93.1,  89.7,  88. ,  97.4,  91.7,\n",
       "        89.4,  87.4,  65.4,  88. ,  64. ,  94.7,  95. ,  91.1,  71.7,\n",
       "        63.4,  71. ,  95. ,  78.4,  89.8,  95.1,  72.1,  74.3,  90.3,\n",
       "        86.4,  74.1,  84.3,  70.3,  76.4,  74.7,  76.4,  82.2,  84.3,\n",
       "        66.6,  93.7,  80.9,  56.1,  86. ,  81.9,  82.3,  90.2,  82.1,\n",
       "        82.7,  90.6,  95.6,  79. ,  69.9,  79.3])"
      ]
     },
     "execution_count": 90,
     "metadata": {},
     "output_type": "execute_result"
    }
   ],
   "source": [
    "y_pred"
   ]
  },
  {
   "cell_type": "code",
   "execution_count": 91,
   "metadata": {},
   "outputs": [
    {
     "name": "stdout",
     "output_type": "stream",
     "text": [
      "405     81.3\n",
      "1190    77.3\n",
      "1132    92.2\n",
      "731     83.3\n",
      "1754    91.5\n",
      "        ... \n",
      "841     90.6\n",
      "108     95.6\n",
      "665     79.0\n",
      "1214    69.9\n",
      "2       79.3\n",
      "Name: grade, Length: 600, dtype: float64 [ 81.3  77.3  92.2  83.3  91.5  91.3  95.5  69.5  93.9  84.3  79.4  66.\n",
      " 100.   99.6  86.7  80.9  76.5  72.8  92.9  78.   86.4  73.   81.6  76.\n",
      "  86.6  93.   67.4  81.3  71.   70.1  82.1  82.1  92.5  88.9  83.3  94.7\n",
      "  75.2  81.1  75.3  89.9  83.5  73.3  75.7 100.   97.1  93.7  83.4  84.\n",
      "  86.1  65.9  70.8  89.1  83.2  91.4  80.7  75.7  84.4  79.1  79.2  87.8\n",
      "  77.4  72.   75.2 100.   74.9  76.3  85.4  76.1  82.6  99.5  76.5  68.2\n",
      " 100.   93.1  78.8  83.   66.8  90.3  83.9  86.1  82.2  88.4  70.5  79.8\n",
      "  79.2  83.6  76.9  84.4  80.5 100.   89.4  89.6  71.6  88.7  81.9  79.6\n",
      "  71.9  71.3  82.5  84.3 100.   81.   87.   87.5  98.1  93.1  72.4  92.1\n",
      "  80.2  93.3  77.8  72.   81.3  86.   87.9  68.6 100.  100.   76.3  89.7\n",
      "  69.2  80.2  85.2  82.3  87.9  70.4  92.   88.4  93.1  79.5  94.2  90.2\n",
      "  80.8  72.7  92.4  85.   72.7  75.9  76.4 100.   87.3  84.1  72.2  67.9\n",
      "  90.4  95.5  81.4  65.3  97.3  92.5  88.1  86.8  92.9  69.5  91.9  88.9\n",
      "  71.9  93.   84.   62.2  87.2  82.8  96.5  97.1  84.9  72.3  76.4  77.1\n",
      "  72.1  74.   87.5  74.8  84.2  99.1  88.4 100.   80.5  69.9  88.   90.3\n",
      " 100.   76.8  82.5  88.5  97.9  82.7  73.4  91.1  76.1 100.  100.   71.4\n",
      "  81.8  82.8  94.9  78.4 100.   88.4  71.4  90.   80.3  85.6  65.3  89.2\n",
      "  84.2  85.3  82.3  92.8  94.2  77.7  69.8  74.   90.1  76.   90.5  88.1\n",
      "  95.5  77.9  85.9  68.1  72.3  84.3  77.9  73.8  86.8  84.   98.7  89.2\n",
      " 100.  100.   90.4  71.9  76.2  74.4  79.1  90.8  80.8  71.8  94.6 100.\n",
      "  71.   83.8  77.7  83.7 100.   74.4  81.6  82.3  71.2  82.5  64.9  72.8\n",
      "  76.2  71.1  85.1  61.4  81.   79.5  93.9  69.3  92.   87.6  77.3  80.3\n",
      "  82.8  94.8  89.2  91.4  78.8  83.2  66.2  90.8 100.   65.1  87.1  89.6\n",
      "  75.   85.2  78.1  67.6  86.4  83.5  74.2  71.8  78.1  87.4  72.5  74.\n",
      "  82.5  83.5  97.1  85.2  86.   79.6  69.9  87.5  78.4  88.1  77.4  84.9\n",
      "  85.8 100.   75.3  91.4  91.8  87.5  62.   87.5  98.1  72.5  75.4  80.2\n",
      "  77.4  84.1  80.4  81.8  74.3  84.2  94.7  92.   85.2  75.4  88.7  72.6\n",
      "  66.1  80.   89.7  89.7  64.2  93.   78.8  73.2  68.9  75.3  74.8  71.2\n",
      "  90.1  80.1  76.4  75.1  87.3  75.   69.3  74.7  87.5  92.4 100.   84.2\n",
      "  88.5  69.3  86.4  82.   77.   98.2  72.6  79.5  82.2  80.3  78.2  72.7\n",
      "  82.4  96.6  83.4  80.6  89.   68.4  74.9  89.8  70.6  70.   71.2  82.6\n",
      "  88.9  81.6  99.6  87.   89.   94.3  87.2  88.4  96.3  88.8  72.1  89.7\n",
      "  83.   78.7  97.2  88.   71.7  87.5  84.5  81.3  88.7  73.   92.3  81.6\n",
      "  80.   68.9  66.3  98.6  89.5  93.3  79.9  84.2  78.6  68.   85.1  81.7\n",
      "  82.7  83.   89.9  82.  100.   85.   66.1  93.3  60.6  87.2  95.8  86.\n",
      "  96.4  80.9  76.1  77.5  80.5  66.7  90.8  70.2  74.3  96.5  74.1  87.5\n",
      "  61.6  83.6  76.2  75.8  68.1  92.2  75.3  96.6 100.   80.7  89.   59.3\n",
      "  87.4  98.   81.5  81.5 100.   82.5  88.9  86.2 100.   85.5  79.9  85.2\n",
      "  77.   92.8  76.1  73.1  95.2  86.5  95.4  99.3  78.4  85.   95.   79.5\n",
      "  74.3  90.3  79.7  79.2  67.9 100.   91.8  77.1 100.   75.   85.6  80.1\n",
      "  78.5  80.4  95.3  81.3  92.5  88.   99.1  87.3  72.   91.3  82.7  72.5\n",
      "  74.5  75.   74.8  93.1  84.2  84.1  78.4  69.9  86.5  97.4  72.8  64.1\n",
      "  77.   69.8  77.6  69.2  82.5  69.4  87.4  98.3  77.   81.2  77.7  70.9\n",
      "  97.9  87.2  75.8  78.1  74.2  60.1  68.2  88.3  91.1  86.9  63.   83.8\n",
      "  65.1  99.9  87.1  80.3  79.2  88.3  73.4  64.  100.   83.7  85.6  76.5\n",
      "  80.7  81.   92.9  77.   88.   80.2  87.6  83.   87.7  83.7  71.3  85.5\n",
      "  92.6  93.1  89.7  88.   97.4  91.7  89.4  87.4  65.4  88.   64.   94.7\n",
      "  95.   91.1  71.7  63.4  71.   95.   78.4  89.8  95.1  72.1  74.3  90.3\n",
      "  86.4  74.1  84.3  70.3  76.4  74.7  76.4  82.2  84.3  66.6  93.7  80.9\n",
      "  56.1  86.   81.9  82.3  90.2  82.1  82.7  90.6  95.6  79.   69.9  79.3]\n"
     ]
    }
   ],
   "source": [
    "print(Y_test,y_pred)"
   ]
  },
  {
   "cell_type": "code",
   "execution_count": 92,
   "metadata": {},
   "outputs": [
    {
     "name": "stdout",
     "output_type": "stream",
     "text": [
      "Mean squared error: 1.0\n"
     ]
    }
   ],
   "source": [
    "print(\"Mean squared error:\",sklearn.metrics.r2_score(Y_test,y_pred))"
   ]
  },
  {
   "cell_type": "code",
   "execution_count": 93,
   "metadata": {},
   "outputs": [
    {
     "name": "stdout",
     "output_type": "stream",
     "text": [
      "Variance score:  1.0\n"
     ]
    }
   ],
   "source": [
    "print('Variance score: ',sklearn.metrics.r2_score(Y_test,y_pred))"
   ]
  },
  {
   "cell_type": "code",
   "execution_count": 94,
   "metadata": {},
   "outputs": [],
   "source": [
    "y_test2=pd.DataFrame(Y_test)"
   ]
  },
  {
   "cell_type": "code",
   "execution_count": 95,
   "metadata": {},
   "outputs": [],
   "source": [
    "y_pred2=pd.DataFrame(y_pred)"
   ]
  },
  {
   "cell_type": "code",
   "execution_count": 96,
   "metadata": {},
   "outputs": [],
   "source": [
    "y_test2.index=y_pred2.index"
   ]
  },
  {
   "cell_type": "code",
   "execution_count": 97,
   "metadata": {},
   "outputs": [
    {
     "data": {
      "text/html": [
       "<div>\n",
       "<style scoped>\n",
       "    .dataframe tbody tr th:only-of-type {\n",
       "        vertical-align: middle;\n",
       "    }\n",
       "\n",
       "    .dataframe tbody tr th {\n",
       "        vertical-align: top;\n",
       "    }\n",
       "\n",
       "    .dataframe thead th {\n",
       "        text-align: right;\n",
       "    }\n",
       "</style>\n",
       "<table border=\"1\" class=\"dataframe\">\n",
       "  <thead>\n",
       "    <tr style=\"text-align: right;\">\n",
       "      <th></th>\n",
       "      <th>grade</th>\n",
       "    </tr>\n",
       "  </thead>\n",
       "  <tbody>\n",
       "    <tr>\n",
       "      <td>0</td>\n",
       "      <td>81.3</td>\n",
       "    </tr>\n",
       "    <tr>\n",
       "      <td>1</td>\n",
       "      <td>77.3</td>\n",
       "    </tr>\n",
       "    <tr>\n",
       "      <td>2</td>\n",
       "      <td>92.2</td>\n",
       "    </tr>\n",
       "    <tr>\n",
       "      <td>3</td>\n",
       "      <td>83.3</td>\n",
       "    </tr>\n",
       "    <tr>\n",
       "      <td>4</td>\n",
       "      <td>91.5</td>\n",
       "    </tr>\n",
       "    <tr>\n",
       "      <td>...</td>\n",
       "      <td>...</td>\n",
       "    </tr>\n",
       "    <tr>\n",
       "      <td>595</td>\n",
       "      <td>90.6</td>\n",
       "    </tr>\n",
       "    <tr>\n",
       "      <td>596</td>\n",
       "      <td>95.6</td>\n",
       "    </tr>\n",
       "    <tr>\n",
       "      <td>597</td>\n",
       "      <td>79.0</td>\n",
       "    </tr>\n",
       "    <tr>\n",
       "      <td>598</td>\n",
       "      <td>69.9</td>\n",
       "    </tr>\n",
       "    <tr>\n",
       "      <td>599</td>\n",
       "      <td>79.3</td>\n",
       "    </tr>\n",
       "  </tbody>\n",
       "</table>\n",
       "<p>600 rows × 1 columns</p>\n",
       "</div>"
      ],
      "text/plain": [
       "     grade\n",
       "0     81.3\n",
       "1     77.3\n",
       "2     92.2\n",
       "3     83.3\n",
       "4     91.5\n",
       "..     ...\n",
       "595   90.6\n",
       "596   95.6\n",
       "597   79.0\n",
       "598   69.9\n",
       "599   79.3\n",
       "\n",
       "[600 rows x 1 columns]"
      ]
     },
     "execution_count": 97,
     "metadata": {},
     "output_type": "execute_result"
    }
   ],
   "source": [
    "y_test2"
   ]
  },
  {
   "cell_type": "code",
   "execution_count": 98,
   "metadata": {},
   "outputs": [
    {
     "data": {
      "text/html": [
       "<div>\n",
       "<style scoped>\n",
       "    .dataframe tbody tr th:only-of-type {\n",
       "        vertical-align: middle;\n",
       "    }\n",
       "\n",
       "    .dataframe tbody tr th {\n",
       "        vertical-align: top;\n",
       "    }\n",
       "\n",
       "    .dataframe thead th {\n",
       "        text-align: right;\n",
       "    }\n",
       "</style>\n",
       "<table border=\"1\" class=\"dataframe\">\n",
       "  <thead>\n",
       "    <tr style=\"text-align: right;\">\n",
       "      <th></th>\n",
       "      <th>0</th>\n",
       "    </tr>\n",
       "  </thead>\n",
       "  <tbody>\n",
       "    <tr>\n",
       "      <td>0</td>\n",
       "      <td>81.3</td>\n",
       "    </tr>\n",
       "    <tr>\n",
       "      <td>1</td>\n",
       "      <td>77.3</td>\n",
       "    </tr>\n",
       "    <tr>\n",
       "      <td>2</td>\n",
       "      <td>92.2</td>\n",
       "    </tr>\n",
       "    <tr>\n",
       "      <td>3</td>\n",
       "      <td>83.3</td>\n",
       "    </tr>\n",
       "    <tr>\n",
       "      <td>4</td>\n",
       "      <td>91.5</td>\n",
       "    </tr>\n",
       "    <tr>\n",
       "      <td>...</td>\n",
       "      <td>...</td>\n",
       "    </tr>\n",
       "    <tr>\n",
       "      <td>595</td>\n",
       "      <td>90.6</td>\n",
       "    </tr>\n",
       "    <tr>\n",
       "      <td>596</td>\n",
       "      <td>95.6</td>\n",
       "    </tr>\n",
       "    <tr>\n",
       "      <td>597</td>\n",
       "      <td>79.0</td>\n",
       "    </tr>\n",
       "    <tr>\n",
       "      <td>598</td>\n",
       "      <td>69.9</td>\n",
       "    </tr>\n",
       "    <tr>\n",
       "      <td>599</td>\n",
       "      <td>79.3</td>\n",
       "    </tr>\n",
       "  </tbody>\n",
       "</table>\n",
       "<p>600 rows × 1 columns</p>\n",
       "</div>"
      ],
      "text/plain": [
       "        0\n",
       "0    81.3\n",
       "1    77.3\n",
       "2    92.2\n",
       "3    83.3\n",
       "4    91.5\n",
       "..    ...\n",
       "595  90.6\n",
       "596  95.6\n",
       "597  79.0\n",
       "598  69.9\n",
       "599  79.3\n",
       "\n",
       "[600 rows x 1 columns]"
      ]
     },
     "execution_count": 98,
     "metadata": {},
     "output_type": "execute_result"
    }
   ],
   "source": [
    "y_pred2"
   ]
  },
  {
   "cell_type": "code",
   "execution_count": 99,
   "metadata": {},
   "outputs": [],
   "source": [
    "result=pd.concat((y_test2,y_pred2),join='outer',axis=1)"
   ]
  },
  {
   "cell_type": "code",
   "execution_count": 100,
   "metadata": {},
   "outputs": [
    {
     "data": {
      "text/html": [
       "<div>\n",
       "<style scoped>\n",
       "    .dataframe tbody tr th:only-of-type {\n",
       "        vertical-align: middle;\n",
       "    }\n",
       "\n",
       "    .dataframe tbody tr th {\n",
       "        vertical-align: top;\n",
       "    }\n",
       "\n",
       "    .dataframe thead th {\n",
       "        text-align: right;\n",
       "    }\n",
       "</style>\n",
       "<table border=\"1\" class=\"dataframe\">\n",
       "  <thead>\n",
       "    <tr style=\"text-align: right;\">\n",
       "      <th></th>\n",
       "      <th>grade</th>\n",
       "      <th>0</th>\n",
       "    </tr>\n",
       "  </thead>\n",
       "  <tbody>\n",
       "    <tr>\n",
       "      <td>0</td>\n",
       "      <td>81.3</td>\n",
       "      <td>81.3</td>\n",
       "    </tr>\n",
       "    <tr>\n",
       "      <td>1</td>\n",
       "      <td>77.3</td>\n",
       "      <td>77.3</td>\n",
       "    </tr>\n",
       "    <tr>\n",
       "      <td>2</td>\n",
       "      <td>92.2</td>\n",
       "      <td>92.2</td>\n",
       "    </tr>\n",
       "    <tr>\n",
       "      <td>3</td>\n",
       "      <td>83.3</td>\n",
       "      <td>83.3</td>\n",
       "    </tr>\n",
       "    <tr>\n",
       "      <td>4</td>\n",
       "      <td>91.5</td>\n",
       "      <td>91.5</td>\n",
       "    </tr>\n",
       "    <tr>\n",
       "      <td>...</td>\n",
       "      <td>...</td>\n",
       "      <td>...</td>\n",
       "    </tr>\n",
       "    <tr>\n",
       "      <td>595</td>\n",
       "      <td>90.6</td>\n",
       "      <td>90.6</td>\n",
       "    </tr>\n",
       "    <tr>\n",
       "      <td>596</td>\n",
       "      <td>95.6</td>\n",
       "      <td>95.6</td>\n",
       "    </tr>\n",
       "    <tr>\n",
       "      <td>597</td>\n",
       "      <td>79.0</td>\n",
       "      <td>79.0</td>\n",
       "    </tr>\n",
       "    <tr>\n",
       "      <td>598</td>\n",
       "      <td>69.9</td>\n",
       "      <td>69.9</td>\n",
       "    </tr>\n",
       "    <tr>\n",
       "      <td>599</td>\n",
       "      <td>79.3</td>\n",
       "      <td>79.3</td>\n",
       "    </tr>\n",
       "  </tbody>\n",
       "</table>\n",
       "<p>600 rows × 2 columns</p>\n",
       "</div>"
      ],
      "text/plain": [
       "     grade     0\n",
       "0     81.3  81.3\n",
       "1     77.3  77.3\n",
       "2     92.2  92.2\n",
       "3     83.3  83.3\n",
       "4     91.5  91.5\n",
       "..     ...   ...\n",
       "595   90.6  90.6\n",
       "596   95.6  95.6\n",
       "597   79.0  79.0\n",
       "598   69.9  69.9\n",
       "599   79.3  79.3\n",
       "\n",
       "[600 rows x 2 columns]"
      ]
     },
     "execution_count": 100,
     "metadata": {},
     "output_type": "execute_result"
    }
   ],
   "source": [
    "result"
   ]
  },
  {
   "cell_type": "code",
   "execution_count": null,
   "metadata": {},
   "outputs": [],
   "source": [
    "\n",
    "\n"
   ]
  }
 ],
 "metadata": {
  "kernelspec": {
   "display_name": "Python 3",
   "language": "python",
   "name": "python3"
  },
  "language_info": {
   "codemirror_mode": {
    "name": "ipython",
    "version": 3
   },
   "file_extension": ".py",
   "mimetype": "text/x-python",
   "name": "python",
   "nbconvert_exporter": "python",
   "pygments_lexer": "ipython3",
   "version": "3.7.4"
  }
 },
 "nbformat": 4,
 "nbformat_minor": 2
}
