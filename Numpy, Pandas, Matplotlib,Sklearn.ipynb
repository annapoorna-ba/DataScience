{
 "cells": [
  {
   "cell_type": "code",
   "execution_count": 1,
   "metadata": {},
   "outputs": [
    {
     "name": "stdout",
     "output_type": "stream",
     "text": [
      "a = [1 2 3]\n",
      "type(a) = <class 'numpy.ndarray'>\n",
      "a.dtype = int32\n",
      "a.ndim = 1\n",
      "a.size = 3\n",
      "a.shape = (3,)\n",
      "b = [[1.3 2.4]\n",
      " [0.3 4.1]]\n",
      "type(b) = <class 'numpy.ndarray'>\n",
      "b.dtype = float64\n",
      "b.ndim = 2\n",
      "b.size = 4\n",
      "b.shape = (2, 2)\n"
     ]
    }
   ],
   "source": [
    "import numpy as np\n",
    "a = np.array([1, 2, 3])\n",
    "print('a =', a)\n",
    "print('type(a) =', type(a))\n",
    "print('a.dtype =', a.dtype)\n",
    "print('a.ndim =', a.ndim)\n",
    "print('a.size =', a.size)\n",
    "print('a.shape =', a.shape)\n",
    "\n",
    "b = np.array([[1.3, 2.4], [0.3, 4.1]])\n",
    "print('b =', b)\n",
    "print('type(b) =', type(b))\n",
    "print('b.dtype =', b.dtype)\n",
    "print('b.ndim =', b.ndim)\n",
    "print('b.size =', b.size)\n",
    "print('b.shape =', b.shape)\n"
   ]
  },
  {
   "cell_type": "code",
   "execution_count": 2,
   "metadata": {},
   "outputs": [
    {
     "name": "stdout",
     "output_type": "stream",
     "text": [
      "g = [['a' 'g']\n",
      " ['c' 'd']]\n",
      "type(g) = <class 'numpy.ndarray'>\n",
      "g.dtype = <U1\n",
      "g.dtype.name = str32\n",
      "g.ndim = 2\n",
      "g.size = 4\n",
      "g.shape = (2, 2)\n"
     ]
    }
   ],
   "source": [
    "import numpy as np;\n",
    "\n",
    "g = np.array([['a', 'g'], ['c', 'd']])\n",
    "print('g =', g)\n",
    "print('type(g) =', type(g))\n",
    "print('g.dtype =', g.dtype)\n",
    "print('g.dtype.name =', g.dtype.name)\n",
    "print('g.ndim =', g.ndim)\n",
    "print('g.size =', g.size)\n",
    "print('g.shape =', g.shape)\n"
   ]
  },
  {
   "cell_type": "code",
   "execution_count": 3,
   "metadata": {},
   "outputs": [
    {
     "name": "stdout",
     "output_type": "stream",
     "text": [
      "[0 1 2 3]\n",
      "[4 5 6 7]\n",
      "[ 0  4  8 12]\n",
      "\n",
      "[4 5 6 7]\n",
      "[ 4  6  8 10]\n",
      "[-4 -4 -4 -4]\n",
      "[ 0  5 12 21]\n",
      "\n",
      "[[0 1 2]\n",
      " [3 4 5]\n",
      " [6 7 8]]\n",
      "[[1. 1. 1.]\n",
      " [1. 1. 1.]\n",
      " [1. 1. 1.]]\n",
      "[[0. 1. 2.]\n",
      " [3. 4. 5.]\n",
      " [6. 7. 8.]]\n",
      "[[-1.  0.  1.]\n",
      " [ 2.  3.  4.]\n",
      " [ 5.  6.  7.]]\n"
     ]
    }
   ],
   "source": [
    "import numpy as np\n",
    "\n",
    "a = np.arange(4)\n",
    "print(a)\n",
    "print(a+4)\n",
    "print(a*4)\n",
    "print()\n",
    "\n",
    "b = np.arange(4,8)\n",
    "print(b)\n",
    "print(a+b)\n",
    "print(a-b)\n",
    "print(a*b)\n",
    "print()\n",
    "\n",
    "A = np.arange(0,9).reshape(3,3)\n",
    "print(A)\n",
    "B = np.ones((3,3))\n",
    "print(B)\n",
    "print(A*B)\n",
    "print(A-B)\n"
   ]
  },
  {
   "cell_type": "code",
   "execution_count": 4,
   "metadata": {},
   "outputs": [
    {
     "name": "stdout",
     "output_type": "stream",
     "text": [
      "[[0 1 2]\n",
      " [3 4 5]\n",
      " [6 7 8]]\n",
      "\n",
      "[[1. 1. 1.]\n",
      " [1. 1. 1.]\n",
      " [1. 1. 1.]]\n",
      "\n",
      "[[ 3.  3.  3.]\n",
      " [12. 12. 12.]\n",
      " [21. 21. 21.]]\n"
     ]
    }
   ],
   "source": [
    "import numpy as np\n",
    "\n",
    "A = np.arange(0,9).reshape(3,3)\n",
    "print(A)\n",
    "print()\n",
    "\n",
    "B = np.ones((3,3))\n",
    "print(B)\n",
    "print()\n",
    "\n",
    "print(np.dot(A,B))\n"
   ]
  },
  {
   "cell_type": "code",
   "execution_count": 5,
   "metadata": {},
   "outputs": [
    {
     "name": "stdout",
     "output_type": "stream",
     "text": [
      "[10 11 12 13 14 15]\n",
      "14\n",
      "\n",
      "[[10 11 12]\n",
      " [13 14 15]\n",
      " [16 17 18]]\n",
      "10\n",
      "14\n",
      "18\n"
     ]
    }
   ],
   "source": [
    "import numpy as np\n",
    "\n",
    "a = np.arange(10,16)\n",
    "print(a)\n",
    "print(a[4])\n",
    "print()\n",
    "\n",
    "A = np.arange(10,19).reshape((3,3))\n",
    "print(A)\n",
    "print(A[0,0])\n",
    "print(A[1,1])\n",
    "print(A[2,2])\n"
   ]
  },
  {
   "cell_type": "code",
   "execution_count": 6,
   "metadata": {},
   "outputs": [
    {
     "name": "stdout",
     "output_type": "stream",
     "text": [
      "[[10 11 12]\n",
      " [13 14 15]\n",
      " [16 17 18]]\n",
      "10\n",
      "11\n",
      "12\n",
      "13\n",
      "14\n",
      "15\n",
      "16\n",
      "17\n",
      "18\n",
      "\n",
      "[10 11 12]\n",
      "[13 14 15]\n",
      "[16 17 18]\n",
      "\n",
      "10\n",
      "11\n",
      "12\n",
      "13\n",
      "14\n",
      "15\n",
      "16\n",
      "17\n",
      "18\n"
     ]
    }
   ],
   "source": [
    "import numpy as np\n",
    "\n",
    "A = np.arange(10,19).reshape((3,3))\n",
    "print(A)\n",
    "\n",
    "for i in range(0,3):\n",
    "    for j in range(0,3):\n",
    "        print(A[i,j])\n",
    "\n",
    "print()\n",
    "\n",
    "for row in A:\n",
    "    print(row)\n",
    "\n",
    "print()\n",
    "\n",
    "for row in A:\n",
    "    for col in row:\n",
    "        print(col)\n"
   ]
  },
  {
   "cell_type": "code",
   "execution_count": 7,
   "metadata": {},
   "outputs": [
    {
     "name": "stdout",
     "output_type": "stream",
     "text": [
      "0    12\n",
      "1    -4\n",
      "2     7\n",
      "3     9\n",
      "dtype: int64\n"
     ]
    }
   ],
   "source": [
    "#import numpy as np\n",
    "import pandas as pd\n",
    "\n",
    "s = pd.Series([12, -4, 7, 9])\n",
    "print(s)\n"
   ]
  },
  {
   "cell_type": "code",
   "execution_count": 8,
   "metadata": {},
   "outputs": [
    {
     "name": "stdout",
     "output_type": "stream",
     "text": [
      "a    12\n",
      "b    -4\n",
      "c     7\n",
      "d     9\n",
      "dtype: int64\n",
      "\n",
      "7\n",
      "-4\n",
      "a    12\n",
      "b    -4\n",
      "dtype: int64\n",
      "b   -4\n",
      "c    7\n",
      "dtype: int64\n",
      "\n",
      "a    12\n",
      "b     0\n",
      "c     7\n",
      "d     9\n",
      "dtype: int64\n",
      "\n",
      "a    12\n",
      "b     1\n",
      "c     7\n",
      "d     9\n",
      "dtype: int64\n",
      "\n",
      "a    12\n",
      "d     9\n",
      "dtype: int64\n",
      "\n",
      "a    6.0\n",
      "b    0.5\n",
      "c    3.5\n",
      "d    4.5\n",
      "dtype: float64\n",
      "\n",
      "a    2.484907\n",
      "b    0.000000\n",
      "c    1.945910\n",
      "d    2.197225\n",
      "dtype: float64\n",
      "\n"
     ]
    }
   ],
   "source": [
    "import numpy as np\n",
    "import pandas as pd\n",
    "\n",
    "s = pd.Series([12, -4, 7, 9], index=['a', 'b', 'c', 'd'])\n",
    "print(s)\n",
    "print()\n",
    "\n",
    "# Selecting elements\n",
    "print(s[2])\n",
    "print(s['b'])\n",
    "print(s[0:2])\n",
    "print(s[['b','c']])\n",
    "print()\n",
    "\n",
    "# Assignment\n",
    "s[1] = 0\n",
    "print(s)\n",
    "print()\n",
    "\n",
    "s['b'] = 1\n",
    "print(s)\n",
    "print()\n",
    "\n",
    "# Filtering values\n",
    "print(s[s>8])\n",
    "print()\n",
    "\n",
    "#Operations and math functions\n",
    "print(s/2)\n",
    "print()\n",
    "\n",
    "print(np.log(s))\n",
    "print()\n",
    "\n"
   ]
  },
  {
   "cell_type": "code",
   "execution_count": 9,
   "metadata": {},
   "outputs": [
    {
     "name": "stdout",
     "output_type": "stream",
     "text": [
      "white     1\n",
      "white     0\n",
      "blue      2\n",
      "green     1\n",
      "green     2\n",
      "yellow    3\n",
      "dtype: int64\n",
      "\n",
      "[1 0 2 3]\n",
      "\n",
      "2    2\n",
      "1    2\n",
      "3    1\n",
      "0    1\n",
      "dtype: int64\n",
      "\n",
      "white     False\n",
      "white      True\n",
      "blue      False\n",
      "green     False\n",
      "green     False\n",
      "yellow     True\n",
      "dtype: bool\n",
      "\n",
      "white     0\n",
      "yellow    3\n",
      "dtype: int64\n"
     ]
    }
   ],
   "source": [
    "import numpy as np\n",
    "import pandas as pd\n",
    "\n",
    "serd = pd.Series([1,0,2,1,2,3], index=['white','white','blue','green','green','yellow'])\n",
    "print(serd)\n",
    "print()\n",
    "\n",
    "# All unique values without duplicates\n",
    "print(serd.unique())\n",
    "print()\n",
    "\n",
    "# Return unique values with counting of occurences\n",
    "print(serd.value_counts())\n",
    "print()\n",
    "\n",
    "# Evaluates values membership\n",
    "print(serd.isin([0,3]))\n",
    "print()\n",
    "print(serd[serd.isin([0,3])])\n"
   ]
  },
  {
   "cell_type": "code",
   "execution_count": 10,
   "metadata": {},
   "outputs": [
    {
     "name": "stdout",
     "output_type": "stream",
     "text": [
      "red       2000\n",
      "blue      1000\n",
      "yellow     500\n",
      "orange    1000\n",
      "dtype: int64\n",
      "\n",
      "red        400\n",
      "yellow    1000\n",
      "black      700\n",
      "dtype: int64\n",
      "\n",
      "black        NaN\n",
      "blue         NaN\n",
      "orange       NaN\n",
      "red       2400.0\n",
      "yellow    1500.0\n",
      "dtype: float64\n"
     ]
    }
   ],
   "source": [
    "import numpy as np\n",
    "import pandas as pd\n",
    "\n",
    "mydict1 = {'red':2000, 'blue': 1000, 'yellow':500, 'orange':1000}\n",
    "myseries1 = pd.Series(mydict1)\n",
    "print(myseries1)\n",
    "print()\n",
    "\n",
    "mydict2 = {'red':400, 'yellow':1000, 'black':700}\n",
    "myseries2 = pd.Series(mydict2)\n",
    "print(myseries2)\n",
    "print()\n",
    "\n",
    "myseries3 = myseries1 + myseries2\n",
    "print(myseries3)\n"
   ]
  },
  {
   "cell_type": "code",
   "execution_count": 13,
   "metadata": {},
   "outputs": [
    {
     "name": "stdout",
     "output_type": "stream",
     "text": [
      "{'color': ['blue', 'green', 'yellow', 'red', 'white'], 'object': ['ball', 'pen', 'pencil', 'paper', 'mug'], 'price': [1.2, 1.0, 0.6, 0.9, 1.7]}\n",
      "\n",
      "    color  object  price\n",
      "0    blue    ball    1.2\n",
      "1   green     pen    1.0\n",
      "2  yellow  pencil    0.6\n",
      "3     red   paper    0.9\n",
      "4   white     mug    1.7\n",
      "color     green\n",
      "object      pen\n",
      "price         1\n",
      "Name: 1, dtype: object\n"
     ]
    }
   ],
   "source": [
    "import numpy as np\n",
    "import pandas as pd\n",
    "\n",
    "data = {'color': ['blue','green','yellow','red','white'],\n",
    "        'object': ['ball','pen','pencil','paper','mug'],\n",
    "        'price':[1.2,1.0,0.6,0.9,1.7]}\n",
    "\n",
    "print(data)\n",
    "print()\n",
    "\n",
    "frame = pd.DataFrame(data)\n",
    "print(frame)\n",
    "\n",
    "print(frame.loc[1])"
   ]
  },
  {
   "cell_type": "code",
   "execution_count": 15,
   "metadata": {},
   "outputs": [
    {
     "name": "stdout",
     "output_type": "stream",
     "text": [
      "Index(['color', 'object', 'price'], dtype='object')\n",
      "\n",
      "RangeIndex(start=0, stop=5, step=1)\n",
      "\n",
      "[['blue' 'ball' 1.2]\n",
      " ['green' 'pen' 1.0]\n",
      " ['yellow' 'pencil' 0.6]\n",
      " ['red' 'paper' 0.9]\n",
      " ['white' 'mug' 1.7]]\n",
      "\n",
      "0    1.2\n",
      "1    1.0\n",
      "2    0.6\n",
      "3    0.9\n",
      "4    1.7\n",
      "Name: price, dtype: float64\n",
      "\n",
      "0    1.2\n",
      "1    1.0\n",
      "2    0.6\n",
      "3    0.9\n",
      "4    1.7\n",
      "Name: price, dtype: float64\n",
      "\n",
      "color     blue\n",
      "object    ball\n",
      "price      1.2\n",
      "Name: 0, dtype: object\n",
      "\n",
      "1.2\n",
      "\n",
      "1.2\n",
      "\n"
     ]
    }
   ],
   "source": [
    "import numpy as np\n",
    "import pandas as pd\n",
    "\n",
    "data = {'color': ['blue','green','yellow','red','white'],\n",
    "        'object': ['ball','pen','pencil','paper','mug'],\n",
    "        'price':[1.2,1.0,0.6,0.9,1.7]}\n",
    "\n",
    "frame = pd.DataFrame(data)\n",
    "\n",
    "print(frame.columns)\n",
    "print()\n",
    "print(frame.index)\n",
    "print()\n",
    "print(frame.values)\n",
    "print()\n",
    "\n",
    "print(frame['price'])\n",
    "print()\n",
    "print(frame.price)\n",
    "print()\n",
    "print(frame.loc[0])\n",
    "print()\n",
    "print(frame.loc[0]['price'])\n",
    "print()\n",
    "print(frame.loc[0].price)\n",
    "print()\n"
   ]
  },
  {
   "cell_type": "code",
   "execution_count": 16,
   "metadata": {},
   "outputs": [
    {
     "name": "stdout",
     "output_type": "stream",
     "text": [
      "0    1.2\n",
      "1    1.0\n",
      "2    0.6\n",
      "3    0.9\n",
      "4    1.7\n",
      "Name: price, dtype: float64\n",
      "0    8.88\n",
      "1    8.88\n",
      "2    8.88\n",
      "3    8.88\n",
      "4    8.88\n",
      "Name: price, dtype: float64\n",
      "\n",
      "0    8.88\n",
      "1    8.88\n",
      "2    9.99\n",
      "3    8.88\n",
      "4    8.88\n",
      "Name: price, dtype: float64\n"
     ]
    }
   ],
   "source": [
    "import numpy as np\n",
    "import pandas as pd\n",
    "\n",
    "data = {'color': ['blue','green','yellow','red','white'],\n",
    "        'object': ['ball','pen','pencil','paper','mug'],\n",
    "        'price':[1.2,1.0,0.6,0.9,1.7]}\n",
    "\n",
    "frame = pd.DataFrame(data)\n",
    "\n",
    "print(frame.price)\n",
    "\n",
    "for i in range(0, len(frame.index)):\n",
    "    frame.loc[i,'price'] = 8.88\n",
    "\n",
    "print(frame.price)\n",
    "print()\n",
    "\n",
    "frame.loc[2,'price'] = 9.99\n",
    "print(frame.price)\n"
   ]
  },
  {
   "cell_type": "code",
   "execution_count": 17,
   "metadata": {},
   "outputs": [
    {
     "name": "stdout",
     "output_type": "stream",
     "text": [
      "        ball  pen  pencil  paper\n",
      "red        0    1       2      3\n",
      "blue       4    5       6      7\n",
      "yellow     8    9      10     11\n",
      "white     12   13      14     15\n",
      "\n",
      "        mug  pen  ball\n",
      "blue      0    1     2\n",
      "green     3    4     5\n",
      "white     6    7     8\n",
      "yellow    9   10    11\n",
      "\n",
      "        ball  mug  paper   pen  pencil\n",
      "blue     6.0  NaN    NaN   6.0     NaN\n",
      "green    NaN  NaN    NaN   NaN     NaN\n",
      "red      NaN  NaN    NaN   NaN     NaN\n",
      "white   20.0  NaN    NaN  20.0     NaN\n",
      "yellow  19.0  NaN    NaN  19.0     NaN\n"
     ]
    }
   ],
   "source": [
    "import numpy as np\n",
    "import pandas as pd\n",
    "\n",
    "data1 = {'ball': [0,4,8,12],\n",
    "        'pen': [1,5,9,13],\n",
    "        'pencil': [2,6,10,14],\n",
    "        'paper':[3,7,11,15]}\n",
    "\n",
    "frame1 = pd.DataFrame(data1, index=['red','blue','yellow','white'])\n",
    "\n",
    "print(frame1)\n",
    "print()\n",
    "\n",
    "data2 = {'mug': [0,3,6,9],\n",
    "        'pen': [1,4,7,10],\n",
    "        'ball': [2,5,8,11]}\n",
    "\n",
    "frame2 = pd.DataFrame(data2, index=['blue','green','white','yellow'])\n",
    "\n",
    "print(frame2)\n",
    "print()\n",
    "\n",
    "frame3 = frame1.add(frame2)\n",
    "print(frame3)\n"
   ]
  },
  {
   "cell_type": "code",
   "execution_count": 18,
   "metadata": {},
   "outputs": [
    {
     "name": "stdout",
     "output_type": "stream",
     "text": [
      "ball      24\n",
      "pen       28\n",
      "pencil    32\n",
      "paper     36\n",
      "dtype: int64\n",
      "\n",
      "ball      6.0\n",
      "pen       7.0\n",
      "pencil    8.0\n",
      "paper     9.0\n",
      "dtype: float64\n",
      "\n",
      "            ball        pen     pencil      paper\n",
      "count   4.000000   4.000000   4.000000   4.000000\n",
      "mean    6.000000   7.000000   8.000000   9.000000\n",
      "std     5.163978   5.163978   5.163978   5.163978\n",
      "min     0.000000   1.000000   2.000000   3.000000\n",
      "25%     3.000000   4.000000   5.000000   6.000000\n",
      "50%     6.000000   7.000000   8.000000   9.000000\n",
      "75%     9.000000  10.000000  11.000000  12.000000\n",
      "max    12.000000  13.000000  14.000000  15.000000\n"
     ]
    }
   ],
   "source": [
    "import numpy as np\n",
    "import pandas as pd\n",
    "\n",
    "data1 = {'ball': [0,4,8,12],\n",
    "        'pen': [1,5,9,13],\n",
    "        'pencil': [2,6,10,14],\n",
    "        'paper':[3,7,11,15]}\n",
    "\n",
    "frame1 = pd.DataFrame(data1, index=['red','blue','yellow','white'])\n",
    "\n",
    "print(frame1.sum())\n",
    "print()\n",
    "print(frame1.mean())\n",
    "print()\n",
    "print(frame1.describe())\n"
   ]
  }
 ],
 "metadata": {
  "kernelspec": {
   "display_name": "Python 3",
   "language": "python",
   "name": "python3"
  },
  "language_info": {
   "codemirror_mode": {
    "name": "ipython",
    "version": 3
   },
   "file_extension": ".py",
   "mimetype": "text/x-python",
   "name": "python",
   "nbconvert_exporter": "python",
   "pygments_lexer": "ipython3",
   "version": "3.7.4"
  }
 },
 "nbformat": 4,
 "nbformat_minor": 2
}
